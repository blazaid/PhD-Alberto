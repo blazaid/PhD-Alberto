{
 "cells": [
  {
   "cell_type": "markdown",
   "metadata": {},
   "source": [
    "Figuras que uso a lo largo de la tesis, para que los estilos sean coherentes."
   ]
  },
  {
   "cell_type": "code",
   "execution_count": null,
   "metadata": {},
   "outputs": [],
   "source": [
    "import matplotlib.pyplot as plt\n",
    "import numpy as np\n",
    "\n",
    "plt.style.use('bmh')\n",
    "\n",
    "%matplotlib inline"
   ]
  },
  {
   "cell_type": "markdown",
   "metadata": {},
   "source": [
    "## Función de activación: sigmoide"
   ]
  },
  {
   "cell_type": "code",
   "execution_count": null,
   "metadata": {},
   "outputs": [],
   "source": [
    "def sigmoid(x):\n",
    "    return 1./(1+np.e**(-x))\n",
    "\n",
    "x = np.arange(-5, 5, 0.01)\n",
    "y = sigmoid(x)\n",
    "dx = y * (1 - y)\n",
    "\n",
    "# Setup centered axes\n",
    "fig, ax = plt.subplots(figsize=(9, 5))\n",
    "#ax.xaxis.set_ticks_position('bottom')\n",
    "#ax.yaxis.set_ticks_position('left')\n",
    "ax.set_ylim((0, 1.0))\n",
    "\n",
    "# Create and show plot\n",
    "ax.plot(x, y, label=\"$\\sigma(x)$\")\n",
    "ax.plot(x, dx, label=\"$\\\\frac{\\delta \\sigma(x)}{\\delta x}$\")\n",
    "ax.legend(loc=\"best\");\n",
    "fig.savefig('../sigmoid-function.pdf',bbox_inches='tight')"
   ]
  },
  {
   "cell_type": "markdown",
   "metadata": {},
   "source": [
    "## Función de activación: tangente hiperbólica"
   ]
  },
  {
   "cell_type": "code",
   "execution_count": null,
   "metadata": {},
   "outputs": [],
   "source": [
    "def tanh(x):\n",
    "    return 1./(1+np.e**(-x))\n",
    "\n",
    "x = np.arange(-5, 5, 0.01)\n",
    "y = np.tanh(x)\n",
    "dx = 1 - y ** 2\n",
    "\n",
    "# Setup centered axes\n",
    "fig, ax = plt.subplots(figsize=(9, 5))\n",
    "#ax.xaxis.set_ticks_position('bottom')\n",
    "#ax.yaxis.set_ticks_position('left')\n",
    "ax.set_ylim((-1, 1))\n",
    "\n",
    "# Create and show plot\n",
    "ax.plot(x, y, label=\"$\\sigma(x)$\")\n",
    "ax.plot(x, dx, label=\"$\\\\frac{\\delta \\sigma(x)}{\\delta x}$\")\n",
    "ax.legend(loc=\"best\");\n",
    "fig.savefig('../tanh-function.pdf',bbox_inches='tight')"
   ]
  },
  {
   "cell_type": "code",
   "execution_count": null,
   "metadata": {},
   "outputs": [],
   "source": []
  }
 ],
 "metadata": {
  "kernelspec": {
   "display_name": "Python 3",
   "language": "python",
   "name": "python3"
  },
  "language_info": {
   "codemirror_mode": {
    "name": "ipython",
    "version": 3
   },
   "file_extension": ".py",
   "mimetype": "text/x-python",
   "name": "python",
   "nbconvert_exporter": "python",
   "pygments_lexer": "ipython3",
   "version": "3.5.2"
  }
 },
 "nbformat": 4,
 "nbformat_minor": 2
}
