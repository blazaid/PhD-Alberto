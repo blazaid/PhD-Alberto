{
 "cells": [
  {
   "cell_type": "code",
   "execution_count": 1,
   "metadata": {},
   "outputs": [],
   "source": [
    "import csv\n",
    "\n",
    "import rosbag\n",
    "from cv_bridge import CvBridge\n",
    "\n",
    "from pynsia.pointcloud import pc2_to_pc\n",
    "from pynsia.ros.bag import topics"
   ]
  },
  {
   "cell_type": "code",
   "execution_count": 2,
   "metadata": {},
   "outputs": [],
   "source": [
    "FILE_PREFIX = 'subject1-test'\n",
    "\n",
    "TOPICS_TO_EXTRACT = [\n",
    "    '/capture/can',\n",
    "    '/capture/gps/position',\n",
    "    '/capture/gps/speed',\n",
    "    '/capture/kinect/image',\n",
    "    '/capture/lidar'\n",
    "]"
   ]
  },
  {
   "cell_type": "code",
   "execution_count": 3,
   "metadata": {},
   "outputs": [],
   "source": [
    "BAG_FILE = '{}.bag'.format(FILE_PREFIX)\n",
    "OUTPUT_DIR = FILE_PREFIX"
   ]
  },
  {
   "cell_type": "code",
   "execution_count": 4,
   "metadata": {},
   "outputs": [
    {
     "ename": "ImportError",
     "evalue": "No module named cvs",
     "output_type": "error",
     "traceback": [
      "\u001b[0;31m---------------------------------------------------------------------------\u001b[0m",
      "\u001b[0;31mImportError\u001b[0m                               Traceback (most recent call last)",
      "\u001b[0;32m<ipython-input-4-75c3ec4cd4c8>\u001b[0m in \u001b[0;36m<module>\u001b[0;34m()\u001b[0m\n\u001b[0;32m----> 1\u001b[0;31m \u001b[0;32mimport\u001b[0m \u001b[0mbag_parse\u001b[0m \u001b[0;32mas\u001b[0m \u001b[0mbp\u001b[0m\u001b[0;34m\u001b[0m\u001b[0m\n\u001b[0m\u001b[1;32m      2\u001b[0m \u001b[0;34m\u001b[0m\u001b[0m\n\u001b[1;32m      3\u001b[0m topics_parsers = {\n\u001b[1;32m      4\u001b[0m     '/capture/can': bp.CanParser(allowed_messages=[\n\u001b[1;32m      5\u001b[0m         \u001b[0;34m'696'\u001b[0m\u001b[0;34m,\u001b[0m \u001b[0;34m'208'\u001b[0m\u001b[0;34m,\u001b[0m \u001b[0;34m'412'\u001b[0m\u001b[0;34m,\u001b[0m \u001b[0;34m'346'\u001b[0m\u001b[0;34m,\u001b[0m \u001b[0;34m'374'\u001b[0m\u001b[0;34m,\u001b[0m\u001b[0;34m\u001b[0m\u001b[0m\n",
      "\u001b[0;32m/home/blazaid/Projects/PhD-Alberto/data-processing/bag_parse.py\u001b[0m in \u001b[0;36m<module>\u001b[0;34m()\u001b[0m\n\u001b[1;32m      2\u001b[0m \u001b[0;32mimport\u001b[0m \u001b[0mos\u001b[0m\u001b[0;34m\u001b[0m\u001b[0m\n\u001b[1;32m      3\u001b[0m \u001b[0;34m\u001b[0m\u001b[0m\n\u001b[0;32m----> 4\u001b[0;31m \u001b[0;32mimport\u001b[0m \u001b[0mcvs\u001b[0m\u001b[0;34m\u001b[0m\u001b[0m\n\u001b[0m\u001b[1;32m      5\u001b[0m \u001b[0;32mimport\u001b[0m \u001b[0mnumpy\u001b[0m \u001b[0;32mas\u001b[0m \u001b[0mnp\u001b[0m\u001b[0;34m\u001b[0m\u001b[0m\n\u001b[1;32m      6\u001b[0m \u001b[0;34m\u001b[0m\u001b[0m\n",
      "\u001b[0;31mImportError\u001b[0m: No module named cvs"
     ]
    }
   ],
   "source": [
    "import bag_parse as bp\n",
    "\n",
    "topics_parsers = {\n",
    "    '/capture/can': bp.CanParser(allowed_messages=[\n",
    "        '696', '208', '412', '346', '374',\n",
    "        '236', '2F2', '418', '424', '231'\n",
    "    ]),\n",
    "    '/capture/gps/position': bp.GpsPositionParser(),\n",
    "    '/capture/gps/speed': bp.GpsSpeedParser(),\n",
    "    '/capture/kinect/image': bp.KinectImageParser('kinect_image'),\n",
    "    '/capture/lidar': bp.LidarParser('lidar'),\n",
    "}"
   ]
  },
  {
   "cell_type": "code",
   "execution_count": null,
   "metadata": {},
   "outputs": [],
   "source": [
    "def dump_topic_to_csv(topic_name, parser):\n",
    "    # Process only if topic between extractable topics\n",
    "    if topic_name not in TOPICS_TO_EXTRACT:\n",
    "        print('Skipping topic {}'.format(topic_name))\n",
    "        return\n",
    "    else:\n",
    "        print('Dumping ' + topic_name)\n",
    "    # Create the csv file for this topic\n",
    "    csv_file = FILE_PREFIX + topic_name.replace('/', '-') + '.csv'\n",
    "    with open(csv_file, 'w+') as f:\n",
    "        # Create the object that writes csv\n",
    "        writer = csv.writer(f)\n",
    "        # Start writing the topics as rows in the csv\n",
    "        for i, (_, msg, ts) in enumerate(bag.read_messages(topic_name)):\n",
    "            # For each topic name, write headers\n",
    "            if i == 0:\n",
    "                writer.writerow(parser.header(msg))\n",
    "            # Write the row if there is any\n",
    "            row = parser.row(msg)\n",
    "            if row is not None:\n",
    "                writer.writerow(row)"
   ]
  },
  {
   "cell_type": "code",
   "execution_count": null,
   "metadata": {},
   "outputs": [],
   "source": [
    "print('Loading bag file')\n",
    "bag = rosbag.Bag(BAG_FILE)\n",
    "print('Launching dump processes')\n",
    "for topic in topics(bag):\n",
    "    dump_topic_to_csv(topic, topics_parsers[topic])\n"
   ]
  }
 ],
 "metadata": {
  "kernelspec": {
   "display_name": "Python 2",
   "language": "python",
   "name": "python2"
  },
  "language_info": {
   "codemirror_mode": {
    "name": "ipython",
    "version": 2
   },
   "file_extension": ".py",
   "mimetype": "text/x-python",
   "name": "python",
   "nbconvert_exporter": "python",
   "pygments_lexer": "ipython2",
   "version": "2.7.12"
  }
 },
 "nbformat": 4,
 "nbformat_minor": 2
}
