{
 "cells": [
  {
   "cell_type": "code",
   "execution_count": 8,
   "metadata": {},
   "outputs": [],
   "source": [
    "%matplotlib notebook\n",
    "\n",
    "import os, glob\n",
    "from pprint import pprint\n",
    "\n",
    "from __future__ import print_function\n",
    "\n",
    "import pandas as pd\n",
    "import matplotlib as mpl\n",
    "import numpy as np\n",
    "import matplotlib.pyplot as plt\n",
    "from pynsia.pointcloud import Deepmap\n",
    "\n",
    "figsize = (8, 4)"
   ]
  },
  {
   "cell_type": "code",
   "execution_count": 9,
   "metadata": {},
   "outputs": [],
   "source": [
    "ORIG_PATH = '/media/blazaid/Saca/PhD/data/curated'\n",
    "DEST_PATH = '/media/blazaid/Saca/PhD/data/datasets'\n",
    "SUBJECTS = 'edgar', 'jj', 'miguel'"
   ]
  },
  {
   "cell_type": "code",
   "execution_count": 10,
   "metadata": {},
   "outputs": [],
   "source": [
    "DM_DIR = os.path.join(ORIG_PATH, 'deepmaps')\n",
    "CF = 'cf'\n",
    "LC = 'lc'"
   ]
  },
  {
   "cell_type": "code",
   "execution_count": 11,
   "metadata": {},
   "outputs": [],
   "source": [
    "def load_sequences(path, subjects):\n",
    "    sequences = {\n",
    "        CF: {'training': [], 'validation': []},\n",
    "        LC: {'training': [], 'validation': []},\n",
    "    }\n",
    "\n",
    "    for submodel in (CF, LC):\n",
    "        print('Loading data for {} model'.format(submodel))\n",
    "        sequences[submodel] = {}\n",
    "        for dataset in ('training', 'validation'):\n",
    "            print('\\tLoading {} dataset ... '.format(dataset), end='')\n",
    "            sequences[submodel][dataset] = []\n",
    "            for subject in subjects:\n",
    "                file_pattern = '{}_{}_{}_*.csv'.format(submodel, subject, dataset)\n",
    "                sequences[submodel][dataset].extend([\n",
    "                    pd.read_csv(path, index_col=None)\n",
    "                    for path in glob.glob(os.path.join(path, file_pattern))\n",
    "                ])\n",
    "            print('{} loaded'.format(len(sequences[submodel][dataset])))\n",
    "    \n",
    "    return sequences"
   ]
  },
  {
   "cell_type": "code",
   "execution_count": 13,
   "metadata": {},
   "outputs": [
    {
     "name": "stdout",
     "output_type": "stream",
     "text": [
      "Loading data for cf model\n",
      "\tLoading training dataset ... 0 loaded\n",
      "\tLoading validation dataset ... 0 loaded\n",
      "Loading data for lc model\n",
      "\tLoading training dataset ... 0 loaded\n",
      "\tLoading validation dataset ... 0 loaded\n"
     ]
    }
   ],
   "source": [
    "base_sequences = load_sequences(ORIG_PATH, SUBJECTS)"
   ]
  },
  {
   "cell_type": "code",
   "execution_count": 14,
   "metadata": {},
   "outputs": [
    {
     "name": "stdout",
     "output_type": "stream",
     "text": [
      "{'cf': {'training': [], 'validation': []},\n",
      " 'lc': {'training': [], 'validation': []}}\n"
     ]
    }
   ],
   "source": [
    "pprint(base_sequences)"
   ]
  },
  {
   "cell_type": "code",
   "execution_count": null,
   "metadata": {},
   "outputs": [],
   "source": []
  }
 ],
 "metadata": {
  "kernelspec": {
   "display_name": "Python 3",
   "language": "python",
   "name": "python3"
  },
  "language_info": {
   "codemirror_mode": {
    "name": "ipython",
    "version": 2
   },
   "file_extension": ".py",
   "mimetype": "text/x-python",
   "name": "python",
   "nbconvert_exporter": "python",
   "pygments_lexer": "ipython2",
   "version": "2.7.12"
  }
 },
 "nbformat": 4,
 "nbformat_minor": 2
}
