{
 "cells": [
  {
   "cell_type": "code",
   "execution_count": 1,
   "metadata": {
    "ExecuteTime": {
     "end_time": "2018-02-03T11:27:33.977935Z",
     "start_time": "2018-02-03T11:27:33.577298Z"
    }
   },
   "outputs": [],
   "source": [
    "import csv\n",
    "\n",
    "import rosbag\n",
    "from cv_bridge import CvBridge\n",
    "\n",
    "from pynsia.pointcloud import pc2_to_pc\n",
    "from pynsia.ros.bag import topics\n",
    "\n",
    "from bag_parsers import *\n",
    "from settings import Paths"
   ]
  },
  {
   "cell_type": "code",
   "execution_count": 2,
   "metadata": {
    "ExecuteTime": {
     "end_time": "2018-02-03T11:27:34.002095Z",
     "start_time": "2018-02-03T11:27:33.985143Z"
    }
   },
   "outputs": [],
   "source": [
    "DATA_DIR = '/media/blazaid/Saca/Phd/data'\n",
    "\n",
    "SUBJECTS_AND_DATASETS = [\n",
    "    ('miguel', ('train', 'test')),\n",
    "]\n",
    "\n",
    "TOPICS_TO_EXTRACT = [\n",
    "    '/capture/can',\n",
    "    '/capture/gps/position',\n",
    "    '/capture/gps/speed',\n",
    "    '/capture/kinect/image',\n",
    "    '/capture/lidar'\n",
    "]\n",
    "\n",
    "CAN_MESSAGES = [\n",
    "    '696', '208', '412', '346', '374',\n",
    "    '236', '2F2', '418', '424', '231'\n",
    "]\n",
    "KINECT_IMAGES_DIR = 'images'\n",
    "LIDAR_POINTCLOUDS_DIR = 'lidar'"
   ]
  },
  {
   "cell_type": "code",
   "execution_count": 3,
   "metadata": {
    "ExecuteTime": {
     "end_time": "2018-02-03T13:26:15.892956Z",
     "start_time": "2018-02-03T11:27:34.010630Z"
    }
   },
   "outputs": [
    {
     "name": "stdout",
     "output_type": "stream",
     "text": [
      "Extracting data from subjects ...\n",
      "Subject:\tmiguel\n",
      "Loading bag:\t/media/blazaid/Saca/Phd/data/bags/miguel-train.bag\n",
      "Dumping /capture/can\n",
      "Writing raw csv:\t/media/blazaid/Saca/Phd/data/raw_csv/miguel-train-capture-can.csv ...\n",
      "Dumping /capture/gps/position\n",
      "Writing raw csv:\t/media/blazaid/Saca/Phd/data/raw_csv/miguel-train-capture-gps-position.csv ...\n",
      "Dumping /capture/gps/speed\n",
      "Writing raw csv:\t/media/blazaid/Saca/Phd/data/raw_csv/miguel-train-capture-gps-speed.csv ...\n",
      "Dumping /capture/lidar\n",
      "Writing raw csv:\t/media/blazaid/Saca/Phd/data/raw_csv/miguel-train-capture-lidar.csv ...\n",
      "Dumping /capture/kinect/image\n",
      "Writing raw csv:\t/media/blazaid/Saca/Phd/data/raw_csv/miguel-train-capture-kinect-image.csv ...\n",
      "Loading bag:\t/media/blazaid/Saca/Phd/data/bags/miguel-test.bag\n",
      "Dumping /capture/can\n",
      "Writing raw csv:\t/media/blazaid/Saca/Phd/data/raw_csv/miguel-test-capture-can.csv ...\n",
      "Dumping /capture/gps/position\n",
      "Writing raw csv:\t/media/blazaid/Saca/Phd/data/raw_csv/miguel-test-capture-gps-position.csv ...\n",
      "Dumping /capture/gps/speed\n",
      "Writing raw csv:\t/media/blazaid/Saca/Phd/data/raw_csv/miguel-test-capture-gps-speed.csv ...\n",
      "Dumping /capture/lidar\n",
      "Writing raw csv:\t/media/blazaid/Saca/Phd/data/raw_csv/miguel-test-capture-lidar.csv ...\n",
      "Dumping /capture/kinect/image\n",
      "Writing raw csv:\t/media/blazaid/Saca/Phd/data/raw_csv/miguel-test-capture-kinect-image.csv ...\n"
     ]
    }
   ],
   "source": [
    "paths = Paths(DATA_DIR)\n",
    "print('Extracting data from subjects ...')\n",
    "for subject, datasets in SUBJECTS_AND_DATASETS:\n",
    "    print('Subject:\\t' + subject)\n",
    "    for dataset in datasets:\n",
    "        topics_parsers = {\n",
    "            '/capture/can': CanParser(allowed_messages=CAN_MESSAGES),\n",
    "            '/capture/gps/position': GpsPositionParser(),\n",
    "            '/capture/gps/speed': GpsSpeedParser(),\n",
    "            '/capture/kinect/image': KinectImageParser(paths.raw_csv_dir(\n",
    "                subject,\n",
    "                dataset,\n",
    "                KINECT_IMAGES_DIR,\n",
    "            )),\n",
    "            '/capture/lidar': LidarParser(paths.raw_csv_dir(\n",
    "                subject,\n",
    "                dataset,\n",
    "                LIDAR_POINTCLOUDS_DIR,\n",
    "            )),\n",
    "        }\n",
    "        bag_dataset = paths.bag_dataset_path(subject, dataset)\n",
    "        print('Loading bag:\\t' + bag_dataset)\n",
    "        bag = rosbag.Bag(bag_dataset)\n",
    "        for topic in topics(bag):\n",
    "            # Only proicess the extractable topics\n",
    "            if topic not in TOPICS_TO_EXTRACT:\n",
    "                print('Skipping topic:\\t{}'.format(topic))\n",
    "                continue\n",
    "            else:\n",
    "                print('Dumping ' + topic)\n",
    "             \n",
    "            # Get the parser for the topic\n",
    "            parser = topics_parsers[topic]\n",
    "            # Get the csv file to dump\n",
    "            csv_file = paths.raw_csv_dataset_path(subject, dataset, topic)\n",
    "            with open(csv_file, 'w+') as f:\n",
    "                # Create the object that writes csv\n",
    "                writer = csv.writer(f)\n",
    "                # Start writing the topics as rows in the csv\n",
    "                print('Writing raw csv:\\t' + csv_file + ' ...')\n",
    "                for i, (_, msg, ts) in enumerate(bag.read_messages(topic)):\n",
    "                    # For each topic name, write headers\n",
    "                    if i == 0:\n",
    "                        writer.writerow(parser.header(msg))\n",
    "                    # Write the row if there is any\n",
    "                    row = parser.row(msg)\n",
    "                    if row is not None:\n",
    "                        writer.writerow(row)"
   ]
  },
  {
   "cell_type": "code",
   "execution_count": null,
   "metadata": {},
   "outputs": [],
   "source": []
  },
  {
   "cell_type": "code",
   "execution_count": null,
   "metadata": {},
   "outputs": [],
   "source": []
  }
 ],
 "metadata": {
  "kernelspec": {
   "display_name": "Python 2",
   "language": "python",
   "name": "python2"
  },
  "language_info": {
   "codemirror_mode": {
    "name": "ipython",
    "version": 2
   },
   "file_extension": ".py",
   "mimetype": "text/x-python",
   "name": "python",
   "nbconvert_exporter": "python",
   "pygments_lexer": "ipython2",
   "version": "2.7.12"
  }
 },
 "nbformat": 4,
 "nbformat_minor": 2
}
