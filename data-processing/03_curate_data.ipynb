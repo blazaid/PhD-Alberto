{
 "cells": [
  {
   "cell_type": "markdown",
   "metadata": {},
   "source": [
    "Este notebook lo usamos para sacar los datos de los recorridos que (por desgracia) se tienen que sacar a mano.\n",
    "\n",
    "Cosas que pongo aquí porque si no se me olvidan:\n",
    "\n",
    "* Los carriles se enumeran desde 0 (el derecho) hasta n (el más izquiero de todos). Eso quiere decir que los cambios son -1 a la derecha y +1 a la izquierda.\n",
    "* Si el siguiente semáforo está muy lejos, nos da exactamente igual el estado en el que esté. Este hecho lo podemos usar para generar más datos.\n",
    "* La precisión del GPS es un poco chusta, así que los resultados mejorarían dramáticamente en el caso de conseguir una mayor precisión en la toma de datos."
   ]
  },
  {
   "cell_type": "code",
   "execution_count": null,
   "metadata": {},
   "outputs": [],
   "source": [
    "%matplotlib notebook\n",
    "\n",
    "import os, glob\n",
    "from functools import partial\n",
    "\n",
    "import pandas as pd\n",
    "import matplotlib as mpl\n",
    "from mpl_toolkits.mplot3d import Axes3D\n",
    "import numpy as np\n",
    "import matplotlib.pyplot as plt\n",
    "import matplotlib.image as mpimg\n",
    "from pynsia.pointcloud import PointCloud, transformation_matrix\n",
    "from sklearn.cluster import DBSCAN\n",
    "\n",
    "import ipywidgets as widgets\n",
    "from IPython.display import display\n",
    "\n",
    "from pynsia import latlon\n",
    "\n",
    "from utils import load_master_df, load_subject_df, DATASETS_INFO\n",
    "\n",
    "\n",
    "figsize = (8, 4)"
   ]
  },
  {
   "cell_type": "code",
   "execution_count": null,
   "metadata": {},
   "outputs": [],
   "source": [
    "# BASE_PATH = '/home/blazaid/Projects/data-phd/sync'\n",
    "BASE_PATH = '/media/blazaid/Saca/Phd/data/sync'\n",
    "OUTPUT_PATH = '/media/blazaid/Saca/Phd/data/curated'\n",
    "SUBJECT = 'miguel'  # edgar, jj, miguel\n",
    "DATASET = 'validation'  # training, validation\n",
    "MAX_LEADER_DISTANCE = 50\n",
    "MAX_TLS_DISTANCE = 100\n",
    "MAX_DRIVABLE_DISTANCE = 100"
   ]
  },
  {
   "cell_type": "code",
   "execution_count": null,
   "metadata": {},
   "outputs": [],
   "source": [
    "# Load the subject's data\n",
    "df = load_subject_df(BASE_PATH, SUBJECT, DATASET, 'dataset')\n",
    "# Select user info\n",
    "dataset_info = DATASETS_INFO[SUBJECT][DATASET]\n",
    "# Subject's path\n",
    "SUBJECT_PATH = os.path.join(BASE_PATH, SUBJECT, DATASET)\n",
    "# Calibration data\n",
    "calibration_data = dataset_info['calibration_data']"
   ]
  },
  {
   "cell_type": "markdown",
   "metadata": {},
   "source": [
    "## Subconjuntos de entrenamiento y test\n",
    "\n",
    "De los conjuntos sincronizados originales extraeremos unos subconjuntos similares para trabajar con ellos, de tal manera que para cada sujeto los comienzos y los finales de las rutas sean aproximadamente los mismos.\n",
    "\n",
    "Estos datos se han sacado visualizando los vídeos de los sujetos."
   ]
  },
  {
   "cell_type": "code",
   "execution_count": null,
   "metadata": {},
   "outputs": [],
   "source": [
    "starting_frame = dataset_info['starting_frame'] or 0\n",
    "ending_frame = dataset_info['ending_frame'] or (len(df) - 1)\n",
    "\n",
    "print('Starting frame:\\t{}'.format(starting_frame))\n",
    "print('Ending frame:\\t{}'.format(ending_frame))\n",
    "print('New route len:\\t{}'.format(ending_frame + 1 - starting_frame))\n",
    "df = df[starting_frame:ending_frame + 1].reset_index(drop=True)"
   ]
  },
  {
   "cell_type": "markdown",
   "metadata": {},
   "source": [
    "## Cambios de carril\n",
    "\n",
    "El cálculo de los cambios de carril (desgraciadamente) se hace a mano. Está definido en la variable DATASETS_INFO para cada conductor y dataset, y se ha obtenido mediante la visualización de los vídeos."
   ]
  },
  {
   "cell_type": "code",
   "execution_count": null,
   "metadata": {},
   "outputs": [],
   "source": [
    "df['Lane change'] = 0\n",
    "for ini_frame, end_frame, change in dataset_info['lane_changes']:\n",
    "    df.loc[ini_frame:end_frame, 'Lane change'] = change\n",
    "fig, ax = plt.subplots(1, 1, figsize=figsize)\n",
    "df['Lane change'].plot(ax=ax);"
   ]
  },
  {
   "cell_type": "markdown",
   "metadata": {},
   "source": [
    "## Velocidad máxima\n",
    "\n",
    "Como en los cambios de carril, la velocidad máxima se ha extraído manualmente a partir de la información de los mapas de openstreetmap y de los vídeos de los recorridos."
   ]
  },
  {
   "cell_type": "code",
   "execution_count": null,
   "metadata": {},
   "outputs": [],
   "source": [
    "df['Max speed'] = 0\n",
    "for frame, speed in dataset_info['max_speed']:\n",
    "    df.loc[frame:, 'Max speed'] = speed\n",
    "fig, ax = plt.subplots(1, 1, figsize=figsize)\n",
    "df['Max speed'].plot(ax=ax);"
   ]
  },
  {
   "cell_type": "markdown",
   "metadata": {},
   "source": [
    "## Distancias\n",
    "\n",
    "Todas las distancias se calcularán más o menos de la misma manera (salvo la del vehículo delantero). Se tiene una tabla maestra con las posiciones de los puntos de interes contra los que calcular la distancia. A partir de ahí se generan tantas columnas como puntos de interes y tantas filas como filas tiene el recorrido. Después, de forma manual, se irá eligiendo qué punto de interes corresponde a qué intervalo y se generará la nueva tabla con dichos valores."
   ]
  },
  {
   "cell_type": "markdown",
   "metadata": {},
   "source": [
    "### Distancias a semáforos\n",
    "\n",
    "Cada sujeto tiene un fichero con la información de cuál es el siguiente semáforo para cada distancia. Se generará por tanto una columna con las distancias al siguiente semáfolo y su estado."
   ]
  },
  {
   "cell_type": "code",
   "execution_count": null,
   "metadata": {},
   "outputs": [],
   "source": [
    "# Base TLS dataframe\n",
    "master_tls_df = load_master_df(BASE_PATH, DATASET, 'tls')\n",
    "master_tls_df = master_tls_df.set_index('tls')\n",
    "# Subject tls's dataframe\n",
    "tls_df = load_subject_df(BASE_PATH, SUBJECT, DATASET, 'tls')"
   ]
  },
  {
   "cell_type": "code",
   "execution_count": null,
   "metadata": {
    "scrolled": false
   },
   "outputs": [],
   "source": [
    "df['Next TLS distance'] = 0.0\n",
    "df['Next TLS status'] = 0.0\n",
    "for i, row in tls_df.iterrows():\n",
    "    next_tls = row['next_tls']\n",
    "    \n",
    "    lat, lon = master_tls_df.loc[row['next_tls'],['lat', 'lon']]\n",
    "    df.loc[row['frame']:,'Next TLS status'] = row['status']\n",
    "    df.loc[row['frame']:,'Next TLS distance'] = df.loc[row['frame']:,['gps_positions_latitude', 'gps_positions_longitude']].apply(lambda r: latlon.distance(\n",
    "        (r['gps_positions_latitude'], r['gps_positions_longitude']),\n",
    "        (lat, lon)\n",
    "    ), axis=1)\n",
    "\n",
    "fig, ax = plt.subplots(1, 1, figsize=figsize)\n",
    "df[['Next TLS distance']].plot(ax=ax);"
   ]
  },
  {
   "cell_type": "markdown",
   "metadata": {},
   "source": [
    "### Distancias recorribles\n",
    "\n",
    "En cada momento, el vehículo tendrá noción de cuánta distancia puede recorrer en su carril, el carril de la izquierda y el de la derecha. Se pretende de esta manera que el modelo sea capaz de determinar cambios de carril. Esta información está disponible en SUMO, razón por la que se ha intentado obtener aquí. Ha requerido de bastante trabajo manual."
   ]
  },
  {
   "cell_type": "code",
   "execution_count": null,
   "metadata": {},
   "outputs": [],
   "source": [
    "df['Distance +1'] = df['Distance 0'] = df['Distance -1'] = np.inf\n",
    "\n",
    "for frame, left, current, right in dataset_info['lanes_distances']:\n",
    "    # Is the same code for each column, so we do this for over all of them\n",
    "    for lane, column in zip([left, current, right], ['Distance +1', 'Distance 0', 'Distance -1']):\n",
    "        # Three options, inf (default), tuple (calc. distance) or 0\n",
    "        if lane != np.inf:\n",
    "            if isinstance(lane, tuple):\n",
    "                lat, lon = lane\n",
    "                df.loc[frame:,column] = df.loc[frame:,['gps_positions_latitude', 'gps_positions_longitude']].apply(\n",
    "                    lambda r: latlon.distance(\n",
    "                        (r['gps_positions_latitude'], r['gps_positions_longitude']),\n",
    "                        (lat, lon)\n",
    "                    ), axis=1\n",
    "                )\n",
    "            else:\n",
    "                df.loc[frame:,column] = 0\n",
    "fig, ax = plt.subplots(1, 1, figsize=figsize)\n",
    "np.minimum(50, df[['Distance +1', 'Distance 0', 'Distance -1']]).plot(ax=ax)"
   ]
  },
  {
   "cell_type": "markdown",
   "metadata": {},
   "source": [
    "### Distancia al objeto más cercano\n",
    "\n",
    "Para sacar la distancia al objeto delantero, se usará una porción rectangular de la nube de puntos para detectar clústers y así determinar si el objeto delantero es un obstáculo.\n",
    "\n",
    "Requiere trabajo manual, pero al menos es mejor que nada."
   ]
  },
  {
   "cell_type": "code",
   "execution_count": null,
   "metadata": {},
   "outputs": [],
   "source": [
    "df['Leader distance'] = np.nan\n",
    "for frame_ini, frame_end, epsilon, min_samples in dataset_info['cf_dist']:\n",
    "    for frame, row in df[frame_ini:frame_end].iterrows():\n",
    "        pointcloud_path = row['pointclouds_path']\n",
    "        if not pd.isnull(pointcloud_path):\n",
    "            ps = PointCloud.load(pointcloud_path).transform(**calibration_data).points\n",
    "\n",
    "            # Extract the points in the specified bounding box\n",
    "            mask = (ps[:,2] > -1.5) & (ps[:,2] < 0.5) & (ps[:,0] < 35) & (ps[:,0] > 0.35) & (ps[:,1] < 1) & (ps[:,1] > -1)\n",
    "            masked_points = ps[mask,:]\n",
    "\n",
    "            # Look for clusters and extract the distance to them\n",
    "            n_clusters = 0\n",
    "            n_points = len(masked_points)\n",
    "            dist = np.nan\n",
    "            if len(masked_points) > 0:\n",
    "                db = DBSCAN(eps=epsilon, min_samples=min_samples).fit(masked_points)\n",
    "                labels = db.labels_\n",
    "                n_clusters = len(set(labels)) - (1 if -1 in labels else 0)\n",
    "                for cluster in range(n_clusters):\n",
    "                    obs = masked_points[labels == cluster]\n",
    "                    ax.scatter(obs[:,0], obs[:,1], s=1, color='r', alpha=0.1);\n",
    "                    centroid_dist = np.sqrt(np.mean(obs[:, 0])**2 + np.mean(obs[:, 1])**2)\n",
    "                    dist = centroid_dist if pd.isnull(dist) else min(dist, centroid_dist)\n",
    "\n",
    "            df.loc[frame, 'Leader distance'] = dist\n",
    "    \n",
    "    df.loc[frame_ini:frame_end,'Leader distance'] = df.loc[frame_ini:frame_end,'Leader distance'].interpolate()\n",
    "\n",
    "\n",
    "fig, ax = plt.subplots(1, 1, figsize=figsize)\n",
    "df['Leader distance'].plot(ax=ax)"
   ]
  },
  {
   "cell_type": "code",
   "execution_count": null,
   "metadata": {},
   "outputs": [],
   "source": [
    "fig, ax = plt.subplots(1, 1, figsize=figsize)\n",
    "df[['canbus_Speed (m/s)']] = df[['canbus_Speed (km/h)']] * 1000 / 3600\n",
    "df['canbus_Speed (m/s)'].plot(ax=ax)\n",
    "df['gps_speeds_speed'].plot(ax=ax)\n",
    "df['gps_speeds_speed'].rolling(5, center=True).mean().plot(ax=ax)"
   ]
  },
  {
   "cell_type": "markdown",
   "metadata": {},
   "source": [
    "## Extracción de los datasets"
   ]
  },
  {
   "cell_type": "code",
   "execution_count": null,
   "metadata": {},
   "outputs": [],
   "source": [
    "if not os.path.isdir(OUTPUT_PATH):\n",
    "    os.makedirs(OUTPUT_PATH)"
   ]
  },
  {
   "cell_type": "markdown",
   "metadata": {},
   "source": [
    "### Funciones de transformación de datos\n",
    "\n",
    "Algunas funciones serán comunes para transformar los datos. Por tanto, las definimos antes."
   ]
  },
  {
   "cell_type": "markdown",
   "metadata": {},
   "source": [
    "#### Estado del semáforo\n",
    "\n",
    "Los semáforos tienen un estado de _g_, _y_ o _r_, en función de si están en verde, amarillo o rojo. se transformarán a un valor numérico 0, 0.5 y 1 respectivamente."
   ]
  },
  {
   "cell_type": "code",
   "execution_count": null,
   "metadata": {},
   "outputs": [],
   "source": [
    "def status_to_number(status):\n",
    "    return {'g': 0, 'y': 0.5, 'r': 1}[status.lower()]"
   ]
  },
  {
   "cell_type": "markdown",
   "metadata": {},
   "source": [
    "#### Distancias relativas\n",
    "\n",
    "Las distancias relativas se definirán de acuerdo a un máximo. A partir de ahí, se normalizarán de 0 a 1 siendo 0 la mínima distancia y 1 cualquier valor mayor o igual a la máxima distancia definida."
   ]
  },
  {
   "cell_type": "code",
   "execution_count": null,
   "metadata": {},
   "outputs": [],
   "source": [
    "def relative_bounded(value, maximum):\n",
    "    return min(1, value / maximum)"
   ]
  },
  {
   "cell_type": "markdown",
   "metadata": {},
   "source": [
    "### Datasets para entrenamiento de controladores difusos\n",
    "\n",
    "Los dataframes para el entrenamiento de controladores difusos se separarán en varias secuencias, una por cada tramo de análisis. Luego, desde ahí, se calcularán el resto de columnas para alimentar al modelo.\n",
    "\n",
    "Las columnas calculadas con las que se alimentará el modelo son las siguientes:\n",
    "\n",
    "* **Acceleration**: The acceleration to apply, in m/s².\n",
    "* **Leader distance**: La distancia al vehículo que está por delante. El valor estará normalizado al intervalo $[0, 1]$ donde 0 se corresponderá a 0 m/s y 1 a la máxima distancia considerada para el experimento (50 metros o más).\n",
    "* **Next TLS distance**: Distancia relativa al próximo semáforo. El valor estará normalizado al intervalo $[0, 1]$ donde 0 se corresponderá a 0 m/s y 1 a la máxima distancia considerada para el experimento (50 metros o más).\n",
    "* **Next TLS status**: El estado del siguiente semáforo, que será 0, 0.5 y 1 en función de si se encuentra en verde, amarillo o rojo.\n",
    "* **Relative speed**: La velocidad relativa en función de la velocidad máxima de la vía. El valor estará comprendido en el intervalo $[0, \\infty)$, siendo $1$ la velocidad correspondiente a la velocidad máxima de la vía.\n",
    "* **Speed to leader**: La velocidad relativa de aproximación al vehículo delantero."
   ]
  },
  {
   "cell_type": "code",
   "execution_count": null,
   "metadata": {},
   "outputs": [],
   "source": [
    "cf_sequences = []\n",
    "\n",
    "for frame_ini, frame_end, _, _ in dataset_info['cf_dist']:\n",
    "    sequence = df[frame_ini:frame_end].copy().reset_index(drop=True)\n",
    "\n",
    "    max_speed = sequence['Max speed'] * 10 / 36  # km/h a m/s\n",
    "    \n",
    "    leader_distance = sequence['Leader distance'].apply(lambda x: relative_bounded(x, MAX_LEADER_DISTANCE))\n",
    "    next_tls_distance = sequence['Next TLS distance'].apply(lambda x: relative_bounded(x, MAX_TLS_DISTANCE))\n",
    "    next_tls_status = sequence['Next TLS status'].apply(status_to_number)\n",
    "    relative_speed = sequence['gps_speeds_speed'].rolling(5, center=True).mean() / max_speed\n",
    "    speed_to_leader = (sequence['Leader distance'] - sequence['Leader distance'].shift(1))\n",
    "    acceleration = relative_speed.shift(-1) - relative_speed\n",
    "\n",
    "    car_following_df = pd.DataFrame({\n",
    "        'Leader distance': leader_distance,\n",
    "        'Next TLS distance': next_tls_distance,\n",
    "        'Next TLS status': next_tls_status,\n",
    "        'Relative speed': relative_speed,\n",
    "        'Speed to leader': speed_to_leader,\n",
    "        'Acceleration': acceleration\n",
    "    })[2:-2].reset_index(drop=True)\n",
    "    \n",
    "    cf_sequences.append(car_following_df)"
   ]
  },
  {
   "cell_type": "code",
   "execution_count": null,
   "metadata": {},
   "outputs": [],
   "source": [
    "filename_prefix = 'cf_{}_{}'.format(SUBJECT, DATASET)\n",
    "print('Deleting previous cf sequences ({}, {})'.format(SUBJECT, DATASET))\n",
    "for filename in glob.glob(os.path.join(OUTPUT_PATH, filename_prefix + '*')):\n",
    "    print('\\t' + filename)\n",
    "    os.remove(filename)\n",
    "    \n",
    "print('Saving new sequences')\n",
    "for i, sequence in enumerate(cf_sequences):\n",
    "    filename = '{}_{:0>5}.csv'.format(filename_prefix, i)\n",
    "    output_path = os.path.join(OUTPUT_PATH, filename)\n",
    "    print('\\t' + output_path)\n",
    "    sequence.to_csv(output_path, index=False)"
   ]
  },
  {
   "cell_type": "markdown",
   "metadata": {},
   "source": [
    "### Datasets para entrenamiento de redes de convolución\n",
    "\n",
    "Este dataset es algo más complejo, ya que involucra más columnas, imágenes, transformaciones, _data augmentation_, etcétera. Primero obtendremos todas aquellas secuencias con continuidad de nube de puntos y de más 2 segundos o más, esto es, todas aquellas secuencias de 20 o más frames sin un NaN en la celda de pointcloud."
   ]
  },
  {
   "cell_type": "code",
   "execution_count": null,
   "metadata": {},
   "outputs": [],
   "source": [
    "temp_lc_sequences = []\n",
    "frame_ini = 0\n",
    "for frame_end in pd.isnull(df['pointclouds_path']).nonzero()[0]:\n",
    "    sequence = df[frame_ini:frame_end]\n",
    "    if len(sequence) > 20:\n",
    "        temp_lc_sequences.append(sequence)\n",
    "    frame_ini = frame_end + 1"
   ]
  },
  {
   "cell_type": "code",
   "execution_count": null,
   "metadata": {},
   "outputs": [],
   "source": [
    "temp_lc_sequences[0].columns"
   ]
  },
  {
   "cell_type": "markdown",
   "metadata": {},
   "source": [
    "Ahora transformaremos las columnas de estas secuencias para que sean las siguientes:\n",
    "\n",
    "* **Acceleration**: The acceleration to apply, in m/s².\n",
    "* **Distance +1, 0 y -1**: Las distancias (relativas al máximo de distancias) que se pueden recorrer en ellos carriles izquierdo, aztual y derecho.\n",
    "* **Lane change**. Cuándo está ocurriendo un cambio de carril. será 0, 1 o 2 en función de si el cambio es a la izquierda, no hay cambio, o a la derecha.\n",
    "* **Next TLS distance**: Distancia relativa al próximo semáforo. El valor estará normalizado al intervalo $[0, 1]$ donde 0 se corresponderá a 0 m/s y 1 a la máxima distancia considerada para el experimento (50 metros o más).\n",
    "* **Next TLS status**: El estado del siguiente semáforo, que será 0, 0.5 y 1 en función de si se encuentra en verde, amarillo o rojo.\n",
    "* **Point cloud**. El path al fichero con la nube de puntos.\n",
    "* **Relative speed**: La velocidad relativa en función de la velocidad máxima de la vía. El valor estará comprendido en el intervalo $[0, \\infty)$, siendo $1$ la velocidad correspondiente a la velocidad máxima de la vía.\n",
    "* **Speed**: La velocidad relativa en función de la velocidad máxima de la vía. El valor estará comprendido en el intervalo $[0, \\infty)$, siendo $1$ la velocidad correspondiente a la velocidad máxima de la vía."
   ]
  },
  {
   "cell_type": "code",
   "execution_count": null,
   "metadata": {},
   "outputs": [],
   "source": [
    "lc_master_sequences = []\n",
    "for sequence in temp_lc_sequences:\n",
    "    max_speed = sequence['Max speed'] * 10 / 36  # km/h a m/s\n",
    "    \n",
    "    relative_speed = sequence['gps_speeds_speed'].rolling(5, center=True).mean() / max_speed\n",
    "    distance_l_lane = sequence['Distance +1'].apply(lambda x: relative_bounded(x, MAX_DRIVABLE_DISTANCE))\n",
    "    distance_c_lane = sequence['Distance 0'].apply(lambda x: relative_bounded(x, MAX_DRIVABLE_DISTANCE))\n",
    "    distance_r_lane = sequence['Distance -1'].apply(lambda x: relative_bounded(x, MAX_DRIVABLE_DISTANCE))\n",
    "    acceleration = relative_speed.shift(-1) - relative_speed\n",
    "    pointcloud_path = sequence['pointclouds_path']\n",
    "    lane_change = sequence['Lane change'] + 1\n",
    "    next_tls_distance = sequence['Next TLS distance'].apply(lambda x: relative_bounded(x, MAX_TLS_DISTANCE))\n",
    "    next_tls_status = sequence['Next TLS status'].apply(status_to_number)\n",
    "    speed_to_leader = (sequence['Leader distance'] - sequence['Leader distance'].shift(1))\n",
    "\n",
    "    lane_change_df = pd.DataFrame({\n",
    "        'Acceleration': acceleration,\n",
    "        'Distance +1': distance_l_lane,\n",
    "        'Distance 0': distance_c_lane,\n",
    "        'Distance -1': distance_r_lane,\n",
    "        'Lane change': lane_change,\n",
    "        'Relative speed': relative_speed,\n",
    "        'Pointcloud': pointcloud_path,\n",
    "        'Next TLS distance': next_tls_distance,\n",
    "        'Next TLS status': next_tls_status,\n",
    "        'Speed to leader': speed_to_leader,\n",
    "    })[2:-2].reset_index(drop=True)\n",
    "    \n",
    "    lc_master_sequences.append(lane_change_df)\n",
    "lc_master_sequences[0]"
   ]
  },
  {
   "cell_type": "code",
   "execution_count": null,
   "metadata": {},
   "outputs": [],
   "source": []
  },
  {
   "cell_type": "code",
   "execution_count": null,
   "metadata": {},
   "outputs": [],
   "source": []
  }
 ],
 "metadata": {
  "kernelspec": {
   "display_name": "Python 2",
   "language": "python",
   "name": "python2"
  },
  "language_info": {
   "codemirror_mode": {
    "name": "ipython",
    "version": 3
   },
   "file_extension": ".py",
   "mimetype": "text/x-python",
   "name": "python",
   "nbconvert_exporter": "python",
   "pygments_lexer": "ipython3",
   "version": "3.5.2"
  },
  "toc": {
   "nav_menu": {},
   "number_sections": true,
   "sideBar": true,
   "skip_h1_title": false,
   "title_cell": "Table of Contents",
   "title_sidebar": "Contents",
   "toc_cell": false,
   "toc_position": {},
   "toc_section_display": true,
   "toc_window_display": false
  },
  "varInspector": {
   "cols": {
    "lenName": 16,
    "lenType": 16,
    "lenVar": 40
   },
   "kernels_config": {
    "python": {
     "delete_cmd_postfix": "",
     "delete_cmd_prefix": "del ",
     "library": "var_list.py",
     "varRefreshCmd": "print(var_dic_list())"
    },
    "r": {
     "delete_cmd_postfix": ") ",
     "delete_cmd_prefix": "rm(",
     "library": "var_list.r",
     "varRefreshCmd": "cat(var_dic_list()) "
    }
   },
   "types_to_exclude": [
    "module",
    "function",
    "builtin_function_or_method",
    "instance",
    "_Feature"
   ],
   "window_display": false
  }
 },
 "nbformat": 4,
 "nbformat_minor": 2
}
