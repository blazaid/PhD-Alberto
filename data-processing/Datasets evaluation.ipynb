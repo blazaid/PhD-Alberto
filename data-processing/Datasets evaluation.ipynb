{
 "cells": [
  {
   "cell_type": "code",
   "execution_count": 13,
   "metadata": {},
   "outputs": [],
   "source": [
    "%matplotlib notebook\n",
    "\n",
    "import os\n",
    "\n",
    "import pandas as pd\n",
    "import numpy as np"
   ]
  },
  {
   "cell_type": "code",
   "execution_count": 20,
   "metadata": {},
   "outputs": [
    {
     "data": {
      "text/html": [
       "<div>\n",
       "<style scoped>\n",
       "    .dataframe tbody tr th:only-of-type {\n",
       "        vertical-align: middle;\n",
       "    }\n",
       "\n",
       "    .dataframe tbody tr th {\n",
       "        vertical-align: top;\n",
       "    }\n",
       "\n",
       "    .dataframe thead th {\n",
       "        text-align: right;\n",
       "    }\n",
       "</style>\n",
       "<table border=\"1\" class=\"dataframe\">\n",
       "  <thead>\n",
       "    <tr style=\"text-align: right;\">\n",
       "      <th></th>\n",
       "      <th>Acceleration</th>\n",
       "      <th>Distance +1</th>\n",
       "      <th>Distance -1</th>\n",
       "      <th>Distance 0</th>\n",
       "      <th>Dm 0</th>\n",
       "      <th>Dm 1</th>\n",
       "      <th>Dm 10</th>\n",
       "      <th>Dm 100</th>\n",
       "      <th>Dm 1000</th>\n",
       "      <th>Dm 1001</th>\n",
       "      <th>...</th>\n",
       "      <th>Dm 2870 t_20</th>\n",
       "      <th>Dm 2871 t_20</th>\n",
       "      <th>Dm 2872 t_20</th>\n",
       "      <th>Dm 2873 t_20</th>\n",
       "      <th>Dm 2874 t_20</th>\n",
       "      <th>Dm 2875 t_20</th>\n",
       "      <th>Dm 2876 t_20</th>\n",
       "      <th>Dm 2877 t_20</th>\n",
       "      <th>Dm 2878 t_20</th>\n",
       "      <th>Dm 2879 t_20</th>\n",
       "    </tr>\n",
       "  </thead>\n",
       "  <tbody>\n",
       "  </tbody>\n",
       "</table>\n",
       "<p>0 rows × 8662 columns</p>\n",
       "</div>"
      ],
      "text/plain": [
       "Empty DataFrame\n",
       "Columns: [Acceleration, Distance +1, Distance -1, Distance 0, Dm 0, Dm 1, Dm 10, Dm 100, Dm 1000, Dm 1001, Dm 1002, Dm 1003, Dm 1004, Dm 1005, Dm 1006, Dm 1007, Dm 1008, Dm 1009, Dm 101, Dm 1010, Dm 1011, Dm 1012, Dm 1013, Dm 1014, Dm 1015, Dm 1016, Dm 1017, Dm 1018, Dm 1019, Dm 102, Dm 1020, Dm 1021, Dm 1022, Dm 1023, Dm 1024, Dm 1025, Dm 1026, Dm 1027, Dm 1028, Dm 1029, Dm 103, Dm 1030, Dm 1031, Dm 1032, Dm 1033, Dm 1034, Dm 1035, Dm 1036, Dm 1037, Dm 1038, Dm 1039, Dm 104, Dm 1040, Dm 1041, Dm 1042, Dm 1043, Dm 1044, Dm 1045, Dm 1046, Dm 1047, Dm 1048, Dm 1049, Dm 105, Dm 1050, Dm 1051, Dm 1052, Dm 1053, Dm 1054, Dm 1055, Dm 1056, Dm 1057, Dm 1058, Dm 1059, Dm 106, Dm 1060, Dm 1061, Dm 1062, Dm 1063, Dm 1064, Dm 1065, Dm 1066, Dm 1067, Dm 1068, Dm 1069, Dm 107, Dm 1070, Dm 1071, Dm 1072, Dm 1073, Dm 1074, Dm 1075, Dm 1076, Dm 1077, Dm 1078, Dm 1079, Dm 108, Dm 1080, Dm 1081, Dm 1082, Dm 1083, ...]\n",
       "Index: []\n",
       "\n",
       "[0 rows x 8662 columns]"
      ]
     },
     "execution_count": 20,
     "metadata": {},
     "output_type": "execute_result"
    }
   ],
   "source": [
    "#path_to_load = '/home/blazaid/Projects/data-phd/datasets/lc-all-validation.csv'\n",
    "path_to_load = '/media/blazaid/Saca/Phd/data/datasets/lc-all-training.csv'\n",
    "\n",
    "df = pd.read_csv(path_to_load, index_col=False)\n",
    "df[df.isnull().any(axis=1)]"
   ]
  },
  {
   "cell_type": "code",
   "execution_count": 18,
   "metadata": {},
   "outputs": [
    {
     "name": "stdout",
     "output_type": "stream",
     "text": [
      "4.8904266357421875\n",
      "4.8904266357421875\n",
      "4.889156341552734\n"
     ]
    }
   ],
   "source": [
    "df = pd.read_csv(path_to_load, index_col=False, dtype=np.float32)\n",
    "print(df.memory_usage(deep=True).sum() / 1024 ** 2)\n",
    "df[['Next TLS green', 'Next TLS red', 'Next TLS yellow']] = df[['Next TLS green', 'Next TLS red', 'Next TLS yellow']].astype(np.uint8)\n",
    "print(df.memory_usage(deep=True).sum() / 1024 ** 2)"
   ]
  },
  {
   "cell_type": "code",
   "execution_count": null,
   "metadata": {},
   "outputs": [],
   "source": [
    "leader_distance = sequence['Leader distance'].apply(lambda x: relative_bounded(x, MAX_LEADER_DISTANCE))\n",
    "next_tls_distance = sequence['Next TLS distance'].apply(lambda x: relative_bounded(x, MAX_TLS_DISTANCE))\n",
    "next_tls_status = sequence['Next TLS status'].apply(status_to_number)\n",
    "speed_to_leader = (sequence['Leader distance'] - sequence['Leader distance'].shift(1))"
   ]
  },
  {
   "cell_type": "code",
   "execution_count": null,
   "metadata": {},
   "outputs": [],
   "source": [
    "# Suavizamos la velocidad un poco\n",
    "speed = df['gps_speeds_speed'].rolling(10, center=True).mean()\n",
    "\n",
    "# Calculamos la aceleración a partir de los incrementos de la velocidad\n",
    "acceleration = speed.shift(-1) - speed"
   ]
  }
 ],
 "metadata": {
  "kernelspec": {
   "display_name": "Python 3",
   "language": "python",
   "name": "python3"
  },
  "language_info": {
   "codemirror_mode": {
    "name": "ipython",
    "version": 3
   },
   "file_extension": ".py",
   "mimetype": "text/x-python",
   "name": "python",
   "nbconvert_exporter": "python",
   "pygments_lexer": "ipython3",
   "version": "3.6.3"
  }
 },
 "nbformat": 4,
 "nbformat_minor": 2
}
