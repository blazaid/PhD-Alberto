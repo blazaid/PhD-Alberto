{
 "cells": [
  {
   "cell_type": "code",
   "execution_count": 29,
   "metadata": {},
   "outputs": [
    {
     "data": {
      "text/html": [
       "<div>\n",
       "<style scoped>\n",
       "    .dataframe tbody tr th:only-of-type {\n",
       "        vertical-align: middle;\n",
       "    }\n",
       "\n",
       "    .dataframe tbody tr th {\n",
       "        vertical-align: top;\n",
       "    }\n",
       "\n",
       "    .dataframe thead th {\n",
       "        text-align: right;\n",
       "    }\n",
       "</style>\n",
       "<table border=\"1\" class=\"dataframe\">\n",
       "  <thead>\n",
       "    <tr style=\"text-align: right;\">\n",
       "      <th></th>\n",
       "      <th>-1</th>\n",
       "      <th>0</th>\n",
       "      <th>1</th>\n",
       "    </tr>\n",
       "  </thead>\n",
       "  <tbody>\n",
       "    <tr>\n",
       "      <th>0</th>\n",
       "      <td>1</td>\n",
       "      <td>0</td>\n",
       "      <td>0</td>\n",
       "    </tr>\n",
       "    <tr>\n",
       "      <th>1</th>\n",
       "      <td>0</td>\n",
       "      <td>1</td>\n",
       "      <td>0</td>\n",
       "    </tr>\n",
       "    <tr>\n",
       "      <th>2</th>\n",
       "      <td>0</td>\n",
       "      <td>0</td>\n",
       "      <td>1</td>\n",
       "    </tr>\n",
       "    <tr>\n",
       "      <th>3</th>\n",
       "      <td>1</td>\n",
       "      <td>0</td>\n",
       "      <td>0</td>\n",
       "    </tr>\n",
       "    <tr>\n",
       "      <th>4</th>\n",
       "      <td>0</td>\n",
       "      <td>1</td>\n",
       "      <td>0</td>\n",
       "    </tr>\n",
       "    <tr>\n",
       "      <th>5</th>\n",
       "      <td>0</td>\n",
       "      <td>0</td>\n",
       "      <td>1</td>\n",
       "    </tr>\n",
       "  </tbody>\n",
       "</table>\n",
       "</div>"
      ],
      "text/plain": [
       "   -1   0   1\n",
       "0   1   0   0\n",
       "1   0   1   0\n",
       "2   0   0   1\n",
       "3   1   0   0\n",
       "4   0   1   0\n",
       "5   0   0   1"
      ]
     },
     "execution_count": 29,
     "metadata": {},
     "output_type": "execute_result"
    }
   ],
   "source": [
    "%matplotlib notebook\n",
    "\n",
    "import abc\n",
    "\n",
    "import pandas as pd\n",
    "import numpy as np\n",
    "\n",
    "df = pd.DataFrame({\n",
    "    'status': [-1, 0, 1,-1, 0, 1]\n",
    "})\n",
    "pd.get_dummies(df['status'])"
   ]
  },
  {
   "cell_type": "code",
   "execution_count": 22,
   "metadata": {},
   "outputs": [
    {
     "data": {
      "text/plain": [
       "5        13.105472\n",
       "6        13.104958\n",
       "7        13.109073\n",
       "8        13.099299\n",
       "9        13.107016\n",
       "10       13.105472\n",
       "11       13.106501\n",
       "12       13.105472\n",
       "13       13.104443\n",
       "14       13.092611\n",
       "15       13.096727\n",
       "16       13.080779\n",
       "17       13.075120\n",
       "18       13.052999\n",
       "19       13.024704\n",
       "20       12.982006\n",
       "21       12.947023\n",
       "22       12.907411\n",
       "23       12.872429\n",
       "24       12.834874\n",
       "25       12.799378\n",
       "26       12.765424\n",
       "27       12.730957\n",
       "28       12.704720\n",
       "29       12.694946\n",
       "30       12.698547\n",
       "31       12.692888\n",
       "32       12.686200\n",
       "33       12.681056\n",
       "34       12.691859\n",
       "           ...    \n",
       "10266     6.348244\n",
       "10267     6.398146\n",
       "10268     6.445474\n",
       "10269     6.458336\n",
       "10270     6.484058\n",
       "10271     6.501034\n",
       "10272     6.498977\n",
       "10273     6.486630\n",
       "10274     6.465538\n",
       "10275     6.425926\n",
       "10276     6.391458\n",
       "10277     6.333840\n",
       "10278     6.260274\n",
       "10279     6.167160\n",
       "10280     6.073531\n",
       "10281     5.990706\n",
       "10282     5.904793\n",
       "10283     5.807049\n",
       "10284     5.719079\n",
       "10285     5.632652\n",
       "10286     5.544168\n",
       "10287     5.461857\n",
       "10288     5.394464\n",
       "10289     5.350222\n",
       "10290     5.335818\n",
       "10291     5.321413\n",
       "10292     5.310610\n",
       "10293     5.325529\n",
       "10294     5.321413\n",
       "10295     5.349193\n",
       "Name: gps_speeds_speed, Length: 10291, dtype: float64"
      ]
     },
     "execution_count": 22,
     "metadata": {},
     "output_type": "execute_result"
    }
   ],
   "source": [
    "path_to_load = '/home/blazaid/Projects/data-phd/sync/miguel/training/dataset.csv'\n",
    "\n",
    "df = pd.read_csv(path_to_load, index_col=False)\n",
    "\n",
    "# Suavizamos la velocidad un poco\n",
    "speed_rolling_window = 10\n",
    "limits = speed_rolling_window // 2, -speed_rolling_window // 2 - 1\n",
    "df['gps_speeds_speed'].rolling(speed_rolling_window, center=True).mean()[limits[0]:limits[1]]"
   ]
  },
  {
   "cell_type": "code",
   "execution_count": null,
   "metadata": {},
   "outputs": [],
   "source": [
    "# Suavizamos la velocidad un poco\n",
    "df[['Leader distance']]"
   ]
  },
  {
   "cell_type": "code",
   "execution_count": null,
   "metadata": {},
   "outputs": [],
   "source": [
    "leader_distance = sequence['Leader distance'].apply(lambda x: relative_bounded(x, MAX_LEADER_DISTANCE))\n",
    "next_tls_distance = sequence['Next TLS distance'].apply(lambda x: relative_bounded(x, MAX_TLS_DISTANCE))\n",
    "next_tls_status = sequence['Next TLS status'].apply(status_to_number)\n",
    "speed_to_leader = (sequence['Leader distance'] - sequence['Leader distance'].shift(1))"
   ]
  },
  {
   "cell_type": "code",
   "execution_count": null,
   "metadata": {},
   "outputs": [],
   "source": [
    "# Suavizamos la velocidad un poco\n",
    "speed = df['gps_speeds_speed'].rolling(10, center=True).mean()\n",
    "\n",
    "# Calculamos la aceleración a partir de los incrementos de la velocidad\n",
    "acceleration = speed.shift(-1) - speed"
   ]
  }
 ],
 "metadata": {
  "kernelspec": {
   "display_name": "Python 3",
   "language": "python",
   "name": "python3"
  },
  "language_info": {
   "codemirror_mode": {
    "name": "ipython",
    "version": 3
   },
   "file_extension": ".py",
   "mimetype": "text/x-python",
   "name": "python",
   "nbconvert_exporter": "python",
   "pygments_lexer": "ipython3",
   "version": "3.6.3"
  }
 },
 "nbformat": 4,
 "nbformat_minor": 2
}
