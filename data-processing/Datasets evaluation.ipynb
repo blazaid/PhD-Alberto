{
 "cells": [
  {
   "cell_type": "code",
   "execution_count": 1,
   "metadata": {},
   "outputs": [],
   "source": [
    "%matplotlib notebook\n",
    "\n",
    "import abc\n",
    "\n",
    "import pandas as pd\n",
    "import numpy as np"
   ]
  },
  {
   "cell_type": "code",
   "execution_count": 21,
   "metadata": {},
   "outputs": [
    {
     "data": {
      "text/plain": [
       "False"
      ]
     },
     "execution_count": 21,
     "metadata": {},
     "output_type": "execute_result"
    }
   ],
   "source": [
    "path_to_load = '/media/blazaid/Saca/Phd/data/curated/cf_miguel_training_00000.csv'\n",
    "\n",
    "df = pd.read_csv(path_to_load, index_col=False)\n",
    "df[df.isnull().any(axis=1)]\n",
    "df.isnull().any().any()"
   ]
  },
  {
   "cell_type": "code",
   "execution_count": null,
   "metadata": {},
   "outputs": [],
   "source": [
    "leader_distance = sequence['Leader distance'].apply(lambda x: relative_bounded(x, MAX_LEADER_DISTANCE))\n",
    "next_tls_distance = sequence['Next TLS distance'].apply(lambda x: relative_bounded(x, MAX_TLS_DISTANCE))\n",
    "next_tls_status = sequence['Next TLS status'].apply(status_to_number)\n",
    "speed_to_leader = (sequence['Leader distance'] - sequence['Leader distance'].shift(1))"
   ]
  },
  {
   "cell_type": "code",
   "execution_count": null,
   "metadata": {},
   "outputs": [],
   "source": [
    "# Suavizamos la velocidad un poco\n",
    "speed = df['gps_speeds_speed'].rolling(10, center=True).mean()\n",
    "\n",
    "# Calculamos la aceleración a partir de los incrementos de la velocidad\n",
    "acceleration = speed.shift(-1) - speed"
   ]
  }
 ],
 "metadata": {
  "kernelspec": {
   "display_name": "Python 3",
   "language": "python",
   "name": "python3"
  },
  "language_info": {
   "codemirror_mode": {
    "name": "ipython",
    "version": 3
   },
   "file_extension": ".py",
   "mimetype": "text/x-python",
   "name": "python",
   "nbconvert_exporter": "python",
   "pygments_lexer": "ipython3",
   "version": "3.6.3"
  }
 },
 "nbformat": 4,
 "nbformat_minor": 2
}
