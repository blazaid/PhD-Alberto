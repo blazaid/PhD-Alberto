{
 "cells": [
  {
   "cell_type": "markdown",
   "metadata": {},
   "source": [
    "Este notebook lo usamos para sacar los datos de los recorridos que (por desgracia) se tienen que sacar a mano.\n",
    "\n",
    "Cosas que pongo aquí porque si no se me olvidan:\n",
    "\n",
    "* Los carriles se enumeran desde 0 (el derecho) hasta n (el más izquiero de todos). Eso quiere decir que los cambios son -1 a la derecha y +1 a la izquierda.\n",
    "* Si el siguiente semáforo está muy lejos, nos da exactamente igual el estado en el que esté. Este hecho lo podemos usar para generar más datos.\n",
    "* La precisión del GPS es un poco chusta, así que los resultados mejorarían dramáticamente en el caso de conseguir una mayor precisión en la toma de datos."
   ]
  },
  {
   "cell_type": "code",
   "execution_count": null,
   "metadata": {},
   "outputs": [],
   "source": [
    "%matplotlib notebook\n",
    "\n",
    "import os\n",
    "\n",
    "import pandas as pd\n",
    "import matplotlib as mpl\n",
    "from mpl_toolkits.mplot3d import Axes3D\n",
    "import numpy as np\n",
    "import matplotlib.pyplot as plt\n",
    "import matplotlib.image as mpimg\n",
    "from pynsia.pointcloud import PointCloud\n",
    "from sklearn.cluster import DBSCAN\n",
    "\n",
    "import ipywidgets as widgets\n",
    "from IPython.display import display\n",
    "\n",
    "from pynsia import latlon, lidar\n",
    "\n",
    "from utils import load_master_df, load_subject_df, DATASETS_INFO\n",
    "\n",
    "figsize = (8, 4)"
   ]
  },
  {
   "cell_type": "code",
   "execution_count": null,
   "metadata": {},
   "outputs": [],
   "source": [
    "BASE_PATH = '/media/blazaid/Saca/Phd/data/sync'\n",
    "SUBJECT = 'miguel'  # edgar, jj, miguel\n",
    "DATASET = 'training'  # training, validation\n",
    "calibration_data = {\n",
    "    'pitch': 3.15,\n",
    "    'roll': 0.5,\n",
    "    'yaw': 0,\n",
    "}"
   ]
  },
  {
   "cell_type": "code",
   "execution_count": null,
   "metadata": {},
   "outputs": [],
   "source": [
    "# Load the subject's data\n",
    "df = load_subject_df(BASE_PATH, SUBJECT, DATASET, 'dataset')\n",
    "# Select user info\n",
    "dataset_info = DATASETS_INFO[SUBJECT][DATASET]\n",
    "# Subject's path\n",
    "SUBJECT_PATH = os.path.join(BASE_PATH, SUBJECT, DATASET)"
   ]
  },
  {
   "cell_type": "markdown",
   "metadata": {},
   "source": [
    "## Subconjuntos de entrenamiento y test\n",
    "\n",
    "De los conjuntos sincronizados originales extraeremos unos subconjuntos similares para trabajar con ellos, de tal manera que para cada sujeto los comienzos y los finales de las rutas sean aproximadamente los mismos.\n",
    "\n",
    "Estos datos se han sacado visualizando los vídeos de los sujetos."
   ]
  },
  {
   "cell_type": "code",
   "execution_count": null,
   "metadata": {},
   "outputs": [],
   "source": [
    "starting_frame = dataset_info['starting_frame'] or 0\n",
    "ending_frame = dataset_info['ending_frame'] or (len(df) - 1)\n",
    "\n",
    "print('Starting frame:\\t{}'.format(starting_frame))\n",
    "print('Ending frame:\\t{}'.format(ending_frame))\n",
    "print('New route len:\\t{}'.format(ending_frame + 1 - starting_frame))\n",
    "df = df[starting_frame:ending_frame + 1].reset_index(drop=True)"
   ]
  },
  {
   "cell_type": "markdown",
   "metadata": {},
   "source": [
    "## Cambios de carril\n",
    "\n",
    "El cálculo de los cambios de carril (desgraciadamente) se hace a mano. Está definido en la variable DATASETS_INFO para cada conductor y dataset, y se ha obtenido mediante la visualización de los vídeos."
   ]
  },
  {
   "cell_type": "code",
   "execution_count": null,
   "metadata": {},
   "outputs": [],
   "source": [
    "df['Lane change'] = 0\n",
    "for ini_frame, end_frame, change in dataset_info['lane_changes']:\n",
    "    df.loc[ini_frame:end_frame, 'Lane change'] = change\n",
    "fig, ax = plt.subplots(1, 1, figsize=figsize)\n",
    "df['Lane change'].plot(ax=ax);"
   ]
  },
  {
   "cell_type": "markdown",
   "metadata": {},
   "source": [
    "## Velocidad máxima\n",
    "\n",
    "Como en los cambios de carril, la velocidad máxima se ha extraído manualmente a partir de la información de los mapas de openstreetmap y de los vídeos de los recorridos."
   ]
  },
  {
   "cell_type": "code",
   "execution_count": null,
   "metadata": {},
   "outputs": [],
   "source": [
    "df['Max speed'] = 0\n",
    "for frame, speed in dataset_info['max_speed']:\n",
    "    df.loc[frame:, 'Max speed'] = speed\n",
    "fig, ax = plt.subplots(1, 1, figsize=figsize)\n",
    "df['Max speed'].plot(ax=ax);"
   ]
  },
  {
   "cell_type": "markdown",
   "metadata": {},
   "source": [
    "## Distancias\n",
    "\n",
    "Todas las distancias se calcularán más o menos de la misma manera (salvo la del vehículo delantero). Se tiene una tabla maestra con las posiciones de los puntos de interes contra los que calcular la distancia. A partir de ahí se generan tantas columnas como puntos de interes y tantas filas como filas tiene el recorrido. Después, de forma manual, se irá eligiendo qué punto de interes corresponde a qué intervalo y se generará la nueva tabla con dichos valores."
   ]
  },
  {
   "cell_type": "markdown",
   "metadata": {},
   "source": [
    "## Distancias a semáforos\n",
    "\n",
    "Cada sujeto tiene un fichero con la información de cuál es el siguiente semáforo para cada distancia. Se generará por tanto una columna con las distancias al siguiente semáfolo y su estado."
   ]
  },
  {
   "cell_type": "code",
   "execution_count": null,
   "metadata": {},
   "outputs": [],
   "source": [
    "# Base TLS dataframe\n",
    "master_tls_df = load_master_df(BASE_PATH, DATASET, 'tls')\n",
    "master_tls_df = master_tls_df.set_index('tls')\n",
    "# Subject tls's dataframe\n",
    "tls_df = load_subject_df(BASE_PATH, SUBJECT, DATASET, 'tls')"
   ]
  },
  {
   "cell_type": "code",
   "execution_count": null,
   "metadata": {},
   "outputs": [],
   "source": [
    "df['Next TLS distance'] = 0.0\n",
    "df['Next TLS status'] = 0.0\n",
    "for i, row in tls_df.iterrows():\n",
    "    next_tls = row['next_tls']\n",
    "    \n",
    "\n",
    "    lat, lon = master_tls_df.loc[row['next_tls'],['lat', 'lon']]\n",
    "    df.loc[row['frame']:,'Next TLS status'] = row['status']\n",
    "    df.loc[row['frame']:,'Next TLS distance'] = df.loc[row['frame']:,['gps_positions_latitude', 'gps_positions_longitude']].apply(lambda r: latlon.distance(\n",
    "        (r['gps_positions_latitude'], r['gps_positions_longitude']),\n",
    "        (lat, lon)\n",
    "    ), axis=1)\n",
    "\n",
    "df[['Next TLS distance']].plot()"
   ]
  },
  {
   "cell_type": "code",
   "execution_count": null,
   "metadata": {},
   "outputs": [],
   "source": [
    "import time\n",
    "\n",
    "lidar_calibration = lidar.calibration_matrix(**calibration_data)\n",
    "\n",
    "fig, axs = plt.subplots(1, 2, figsize=figsize)\n",
    "\n",
    "def plt_image(ax, index, path):\n",
    "    image = mpimg.imread(path)\n",
    "    ax.clear()\n",
    "    ax.imshow(image)\n",
    "    ax.text(0, 0, 'Frame ' + str(index), bbox={'facecolor':'red', 'alpha':0.5, 'pad':10})\n",
    "\n",
    "def plt_lidar(ax, path, columns):\n",
    "    pc = PointCloud.load(path)\n",
    "    ax.clear()\n",
    "    ax.set_xlim((-35, 35))\n",
    "    ax.set_ylim((-35, 35))\n",
    "    ax.set_aspect('equal', adjustable='box')\n",
    "    points = np.concatenate([np.array([pc.points[:,0]]).T, pc.points[:,1:]], axis=1) \n",
    "    points = np.concatenate([points, np.ones((len(pc.points),1))], axis=1) \n",
    "    points = np.matmul(points, lidar_calibration)\n",
    "    mask = (points[:,2] > 0.5) & \\\n",
    "           (points[:,2] < 2) & \\\n",
    "           (points[:,0] < 35) & \\\n",
    "           (points[:,0] > 0.35) & \\\n",
    "           (points[:,1] < 1.5) & \\\n",
    "           (points[:,1] > -1.5)\n",
    "    masked_points = points[mask,:2]\n",
    "    other_points = points[np.logical_not(mask),:2]\n",
    "\n",
    "    # Look for clusters\n",
    "    n_clusters = 0\n",
    "    n_points = len(masked_points)\n",
    "    dist = np.inf\n",
    "    if len(masked_points) > 0:\n",
    "        db = DBSCAN(eps=.5, min_samples=10).fit(masked_points)\n",
    "        labels = db.labels_\n",
    "        n_clusters = len(set(labels)) - (1 if -1 in labels else 0)\n",
    "        for cluster in range(n_clusters):\n",
    "            obs = masked_points[labels == cluster]\n",
    "            dist = min(dist, np.sqrt(np.mean(obs[:, 0])**2 + np.mean(obs[:, 1])**2))\n",
    "    columns.append((n_clusters, n_points))\n",
    "    \n",
    "    ax.scatter(other_points[:,0], other_points[:,1], s=.01, color='b', alpha=0.1);\n",
    "    ax.scatter(masked_points[:,0], masked_points[:,1], s=.1, color='r');\n",
    "    ax.text(-30, 30, 'Clusters: ' + str(n_clusters), bbox={'facecolor':'red', 'alpha':0.5, 'pad':10})\n",
    "    ax.text(-30, 20, 'Dist: ' + str(dist), bbox={'facecolor':'red', 'alpha':0.5, 'pad':10})\n",
    "\n",
    "from_index = 7600\n",
    "\n",
    "columns = []\n",
    "for index, row in df.iterrows():\n",
    "    if from_index is not None and from_index <= index:\n",
    "        if not (pd.isnull(row['snapshots_path']) or pd.isnull(row['pointclouds_path'])):\n",
    "            plt_image(axs[0], index, os.path.join(SUBJECT_PATH, row['snapshots_path']))\n",
    "            plt_lidar(axs[1], os.path.join(PATH, row['pointclouds_path']), columns)\n",
    "\n",
    "        fig.canvas.draw()\n",
    "        #time.sleep(.25)"
   ]
  }
 ],
 "metadata": {
  "kernelspec": {
   "display_name": "Python 2",
   "language": "python",
   "name": "python2"
  },
  "language_info": {
   "codemirror_mode": {
    "name": "ipython",
    "version": 2
   },
   "file_extension": ".py",
   "mimetype": "text/x-python",
   "name": "python",
   "nbconvert_exporter": "python",
   "pygments_lexer": "ipython2",
   "version": "2.7.12"
  },
  "toc": {
   "nav_menu": {},
   "number_sections": true,
   "sideBar": true,
   "skip_h1_title": false,
   "title_cell": "Table of Contents",
   "title_sidebar": "Contents",
   "toc_cell": false,
   "toc_position": {},
   "toc_section_display": true,
   "toc_window_display": false
  },
  "varInspector": {
   "cols": {
    "lenName": 16,
    "lenType": 16,
    "lenVar": 40
   },
   "kernels_config": {
    "python": {
     "delete_cmd_postfix": "",
     "delete_cmd_prefix": "del ",
     "library": "var_list.py",
     "varRefreshCmd": "print(var_dic_list())"
    },
    "r": {
     "delete_cmd_postfix": ") ",
     "delete_cmd_prefix": "rm(",
     "library": "var_list.r",
     "varRefreshCmd": "cat(var_dic_list()) "
    }
   },
   "types_to_exclude": [
    "module",
    "function",
    "builtin_function_or_method",
    "instance",
    "_Feature"
   ],
   "window_display": false
  }
 },
 "nbformat": 4,
 "nbformat_minor": 2
}
