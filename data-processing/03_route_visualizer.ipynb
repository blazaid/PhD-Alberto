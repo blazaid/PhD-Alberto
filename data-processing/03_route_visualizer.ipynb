{
 "cells": [
  {
   "cell_type": "markdown",
   "metadata": {},
   "source": [
    "Este nobook lo usamos para sacar los datos de los recorridos que (por desgracia) se tienen que sacar a mano.\n",
    "\n",
    "Cosas que pongo aquí porque si no se me olvidan:\n",
    "\n",
    "* Los carriles se enumeran desde 0 (el derecho) hasta n (el más izquiero de todos). Eso quiere decir que los cambios son -1 a la derecha y +1 a la izquierda."
   ]
  },
  {
   "cell_type": "code",
   "execution_count": null,
   "metadata": {},
   "outputs": [],
   "source": [
    "%matplotlib inline\n",
    "\n",
    "import os\n",
    "\n",
    "import pandas as pd\n",
    "import matplotlib as mpl\n",
    "from mpl_toolkits.mplot3d import Axes3D\n",
    "import numpy as np\n",
    "import matplotlib.pyplot as plt\n",
    "import matplotlib.image as mpimg\n",
    "from pynsia.pointcloud import PointCloud\n",
    "from sklearn.cluster import DBSCAN\n",
    "\n",
    "import ipywidgets as widgets\n",
    "from IPython.display import display\n",
    "\n",
    "from pynsia import latlon, lidar\n",
    "\n",
    "from utils import load_master_df"
   ]
  },
  {
   "cell_type": "code",
   "execution_count": null,
   "metadata": {},
   "outputs": [],
   "source": [
    "BASE_PATH = '/media/blazaid/Saca/Phd/data/sync'\n",
    "SUBJECT = 'miguel'  # edgar, jj, miguel\n",
    "DATASET = 'training'  # training, validation\n",
    "calibration_data = {\n",
    "    'pitch': 3.15,\n",
    "    'roll': 0.5,\n",
    "    'yaw': 0,\n",
    "}"
   ]
  },
  {
   "cell_type": "code",
   "execution_count": null,
   "metadata": {},
   "outputs": [],
   "source": [
    "DATASETS_INFO = {\n",
    "    'edgar':{\n",
    "        'training':{\n",
    "            'starting_frame':1078,\n",
    "            'ending_frame':9615,\n",
    "            'lane_changes': [\n",
    "                (1119, 1135, 1),(2240, 2260, -1),(2246, 2264, 1),(2499, 2516, -1),\n",
    "                (2999, 3020, 1),(6095, 6115, -1),(6395, 6415, 1),(6715, 6734, 1),\n",
    "                (6764, 6784, -1),(6876, 6897, -1),(8460, 8480, 1),(8526, 8537, -1),\n",
    "            ],\n",
    "            'skippable_sequences':None,\n",
    "            'max_speed':[(0, 50), (1089, 40), (2960, 50), (6536, 40),],\n",
    "        },\n",
    "        'validation':{\n",
    "            'starting_frame':61,\n",
    "            'ending_frame':3202,\n",
    "            'lane_changes': [\n",
    "                (370, 384, 1),(1506, 1523, 1),(1588, 1600, -1),(2510, 2522, 1),\n",
    "                (2580, 2591, 1),(2623, 2649, -1),(3003, 3020, 1),(3070, 3086, -1),\n",
    "            ],\n",
    "            'skippable_sequences':None,\n",
    "            'max_speed':[(0, 40), (370, 50)],\n",
    "        }\n",
    "    },\n",
    "    'jj':{\n",
    "        'training':{\n",
    "            'starting_frame':150,\n",
    "            'ending_frame':10581,\n",
    "            'lane_changes': [\n",
    "                (1560, 1575, 1),(2510, 2530, -1),(3115, 3130, 1),(3140, 3151, -1),\n",
    "                (3173, 3190, 1),(5452, 5475, 1),(6926, 6947, 1),(7360, 7385, 1),\n",
    "                (7565, 7584, -1),(7726, 7750, 1),(8699, 8714, 1),(8735, 8755, -1),\n",
    "                (10010, 10033, -1),(10082, 10093, 1),(10112, 10135, -1),\n",
    "            ],\n",
    "            'skippable_sequences': [(5600, 6878),],\n",
    "            'max_speed':[(0, 50), (1065, 40), (3000, 50), (8562, 40),],\n",
    "        },\n",
    "        'validation':{\n",
    "            'starting_frame':512,\n",
    "            'ending_frame':4716,\n",
    "            'lane_changes': [\n",
    "                (3115, 3142, 1),(3540, 3570, -1),\n",
    "            ],\n",
    "            'skippable_sequences':None,\n",
    "            'max_speed':[(0, 40), (780, 50)],\n",
    "        }\n",
    "    },\n",
    "    'miguel':{\n",
    "        'training':{\n",
    "            'starting_frame':100,\n",
    "            'ending_frame':10255,\n",
    "            'lane_changes':[\n",
    "                (1532, 1550, 1),(3510, 3530, 1),(3560, 3572, -1),(3580, 3602, 1),\n",
    "                (3613, 3630, -1),(5239, 5249, 1),(6050, 6068, 1),(6190, 6211, -1),\n",
    "                (6279, 6302, 1),(6510, 6529, 1),(6550, 6580, -1),(8729, 8755, 1),\n",
    "                (9499, 9520, -1),(9830, 9851, 1),(10129, 10149, -1),\n",
    "            ],\n",
    "            'skippable_sequences':None,\n",
    "            'max_speed':[(0, 50), (1400, 40), (3000, 50), (7845, 40),],\n",
    "        },\n",
    "        'validation':{\n",
    "            'starting_frame':44,\n",
    "            'ending_frame':4210,\n",
    "            'lane_changes': [\n",
    "                (880, 898, 1),(2820, 2839, 1),(2844, 2867, -1),(3462, 3492, 1),\n",
    "                (4140, 4158, 1)\n",
    "            ],\n",
    "            'skippable_sequences':None,\n",
    "            'max_speed':[(0, 40), (600, 50)],\n",
    "        }\n",
    "    },\n",
    "}"
   ]
  },
  {
   "cell_type": "code",
   "execution_count": null,
   "metadata": {},
   "outputs": [],
   "source": [
    "PATH = os.path.join(BASE_PATH, SUBJECT, DATASET)\n",
    "ROUTES_DATA_PATH = os.path.join(BASE_PATH, 'routes_data')\n",
    "df = pd.read_csv(os.path.join(PATH, 'dataset.csv'))\n",
    "dataset_info = DATASETS_INFO[SUBJECT][DATASET]\n",
    "lidar_calibration = lidar.calibration_matrix(**calibration_data)"
   ]
  },
  {
   "cell_type": "markdown",
   "metadata": {},
   "source": [
    "## Subconjuntos de entrenamiento y test\n",
    "\n",
    "De los conjuntos sincronizados originales extraeremos unos subconjuntos similares para trabajar con ellos, de tal manera que para cada sujeto los comienzos y los finales de las rutas sean aproximadamente los mismos.\n",
    "\n",
    "Estos datos se han sacado visualizando los vídeos de los sujetos."
   ]
  },
  {
   "cell_type": "code",
   "execution_count": null,
   "metadata": {},
   "outputs": [],
   "source": [
    "starting_frame = dataset_info['starting_frame'] or 0\n",
    "ending_frame = dataset_info['ending_frame'] or (len(df) - 1)\n",
    "\n",
    "print('Starting frame:\\t{}'.format(starting_frame))\n",
    "print('Ending frame:\\t{}'.format(ending_frame))\n",
    "print('New route len:\\t{}'.format(ending_frame + 1 - starting_frame))\n",
    "df = df[starting_frame:ending_frame + 1].reset_index(drop=True)"
   ]
  },
  {
   "cell_type": "markdown",
   "metadata": {},
   "source": [
    "## Cambios de carril\n",
    "\n",
    "El cálculo de los cambios de carril (desgraciadamente) se hace a mano. Está definido en la variable DATASETS_INFO para cada conductor y dataset, y se ha obtenido mediante la visualización de los vídeos."
   ]
  },
  {
   "cell_type": "code",
   "execution_count": null,
   "metadata": {},
   "outputs": [],
   "source": [
    "df['Lane change'] = 0\n",
    "for ini_frame, end_frame, change in dataset_info['lane_changes']:\n",
    "    df.loc[ini_frame:end_frame, 'Lane change'] = change"
   ]
  },
  {
   "cell_type": "markdown",
   "metadata": {},
   "source": [
    "## Velocidad máxima\n",
    "\n",
    "Como en los cambios de carril, la velocidad máxima se ha extraído manualmente a partir de la información de los mapas de openstreetmap y de los vídeos de los recorridos."
   ]
  },
  {
   "cell_type": "code",
   "execution_count": null,
   "metadata": {},
   "outputs": [],
   "source": [
    "df['Max speed'] = 0\n",
    "for frame, speed in dataset_info['max_speed']:\n",
    "    df.loc[frame:, 'Max speed'] = speed\n",
    "df['Max speed'].plot()"
   ]
  },
  {
   "cell_type": "markdown",
   "metadata": {},
   "source": [
    "## Distancias\n",
    "\n",
    "Todas las distancias se calcularán más o menos de la misma manera (salvo la del vehículo delantero). Se tiene una tabla maestra con las posiciones de los puntos de interes contra los que calcular la distancia. A partir de ahí se generan tantas columnas como puntos de interes y tantas filas como filas tiene el recorrido. Después, de forma manual, se irá eligiendo qué punto de interes corresponde a qué intervalo y se generará la nueva tabla con dichos valores."
   ]
  },
  {
   "cell_type": "code",
   "execution_count": null,
   "metadata": {},
   "outputs": [],
   "source": [
    "import time\n",
    "\n",
    "fig, axs = plt.subplots(1, 2, figsize=(12, 7))\n",
    "\n",
    "def plt_image(ax, index, path):\n",
    "    image = mpimg.imread(path)\n",
    "    ax.clear()\n",
    "    ax.imshow(image)\n",
    "    ax.text(0, 0, 'Frame ' + str(index), bbox={'facecolor':'red', 'alpha':0.5, 'pad':10})\n",
    "\n",
    "def plt_lidar(ax, path, columns):\n",
    "    pc = PointCloud.load(path)\n",
    "    ax.clear()\n",
    "    ax.set_xlim((-35, 35))\n",
    "    ax.set_ylim((-35, 35))\n",
    "    ax.set_aspect('equal', adjustable='box')\n",
    "    points = np.concatenate([np.array([pc.points[:,0]]).T, pc.points[:,1:]], axis=1) \n",
    "    points = np.concatenate([points, np.ones((len(pc.points),1))], axis=1) \n",
    "    points = np.matmul(points, lidar_calibration)\n",
    "    mask = (points[:,2] > 0.5) & \\\n",
    "           (points[:,2] < 2) & \\\n",
    "           (points[:,0] < 35) & \\\n",
    "           (points[:,0] > 0.35) & \\\n",
    "           (points[:,1] < 1.5) & \\\n",
    "           (points[:,1] > -1.5)\n",
    "    masked_points = points[mask,:2]\n",
    "    other_points = points[np.logical_not(mask),:2]\n",
    "\n",
    "    # Look for clusters\n",
    "    n_clusters = 0\n",
    "    n_points = len(masked_points)\n",
    "    dist = np.inf\n",
    "    if len(masked_points) > 0:\n",
    "        db = DBSCAN(eps=.5, min_samples=10).fit(masked_points)\n",
    "        labels = db.labels_\n",
    "        n_clusters = len(set(labels)) - (1 if -1 in labels else 0)\n",
    "        for cluster in range(n_clusters):\n",
    "            obs = masked_points[labels == cluster]\n",
    "            dist = min(dist, np.sqrt(np.mean(obs[:, 0])**2 + np.mean(obs[:, 1])**2))\n",
    "    columns.append((n_clusters, n_points))\n",
    "    \n",
    "    ax.scatter(other_points[:,0], other_points[:,1], s=.01, color='b', alpha=0.1);\n",
    "    ax.scatter(masked_points[:,0], masked_points[:,1], s=.1, color='r');\n",
    "    ax.text(-30, 30, 'Clusters: ' + str(n_clusters), bbox={'facecolor':'red', 'alpha':0.5, 'pad':10})\n",
    "    ax.text(-30, 20, 'Dist: ' + str(dist), bbox={'facecolor':'red', 'alpha':0.5, 'pad':10})\n",
    "\n",
    "from_index = 2246\n",
    "\n",
    "columns = []\n",
    "for index, row in df.iterrows():\n",
    "    if from_index is not None and from_index <= index:\n",
    "        if not (pd.isnull(row['snapshots_path']) or pd.isnull(row['pointclouds_path'])):\n",
    "            plt_image(axs[0], index, os.path.join(PATH, row['snapshots_path']))\n",
    "            #plt_lidar(axs[1], os.path.join(PATH, row['pointclouds_path']), columns)\n",
    "\n",
    "        fig.canvas.draw()\n",
    "        time.sleep(.5)\n"
   ]
  },
  {
   "cell_type": "markdown",
   "metadata": {},
   "source": [
    "## Distancias a semáforos\n",
    "\n",
    "Esto generará (para el usuario en cuestión) un dataset con el mismo número de filas y tantas columnas como espacios hay en el recorrido. Sus valores serán las distancias (lineales) a los semáforos."
   ]
  },
  {
   "cell_type": "code",
   "execution_count": null,
   "metadata": {},
   "outputs": [],
   "source": [
    "# Base TLS dataframe\n",
    "tls_df = load_master_df(ROUTES_DATA_PATH, DATASET, 'tls')\n",
    "\n",
    "# Dataframe with the distances to each of the TLS\n",
    "dataset_tls = pd.DataFrame(columns=tls_df['tls'].tolist())"
   ]
  },
  {
   "cell_type": "code",
   "execution_count": null,
   "metadata": {},
   "outputs": [],
   "source": [
    "for i, row in df.iterrows():\n",
    "    c1 = (row['gps_positions_latitude'], row['gps_positions_longitude'])\n",
    "    if pd.isnull(c1[0]) or pd.isnull(c1[1]):\n",
    "        distances = pd.Series([nan])\n",
    "    else:\n",
    "        distances = [\n",
    "            latlon.distance(c1, (tls['lat'], tls['lon']))\n",
    "            for _, tls in tls_df.iterrows()\n",
    "        ]\n",
    "    \n",
    "    dataset_tls.loc[i] = distances"
   ]
  },
  {
   "cell_type": "code",
   "execution_count": null,
   "metadata": {},
   "outputs": [],
   "source": [
    "dataset_tls"
   ]
  },
  {
   "cell_type": "code",
   "execution_count": null,
   "metadata": {},
   "outputs": [],
   "source": [
    "dataset_tls = pd.DataFrame(columns=tls_df['tls'].tolist())\n",
    "dataset_tls "
   ]
  },
  {
   "cell_type": "code",
   "execution_count": null,
   "metadata": {},
   "outputs": [],
   "source": [
    "sequences = {\n",
    "    'edgar': {\n",
    "        'training': [\n",
    "            (100, 250),(400, 500),(510, 570),(800, 960),(1100, 1225),\n",
    "            (1960, 2010),(2060, 2110),(2180, 2270),(2360, 2600),(2765, 2950),\n",
    "            (3280, 3670),(4070, 4130),(4160, 4310),(4420, 4570),(4700, 4800),\n",
    "            (4860, 4940),(5000, 5080),(5695, 5800),(5880, 5960),(6180, 6200),\n",
    "            (6650, 6740),(6830, 6880),(6995, 7060),(7140, 7300),(7330, 7500),\n",
    "            (7520, 7560),(7620, 7690),(7760, 7900),(7920, 7980),(8120, 8220),\n",
    "            (8310, 8410),(8800, 8900),(9020, 9460),(9500, 9580),\n",
    "        ],\n",
    "        'validation': [\n",
    "            (0, 80),(110, 300),(350, 540),(720, 820),(850, 900),(1440, 1670),\n",
    "            (1900, 1980),(2500, 2730),(3030, 3160),(3270, 3380),(3550, 3690),\n",
    "            (3890, 3910),(3960, 4000),(4080, 4440),\n",
    "        ],\n",
    "    },\n",
    "    'jj': {\n",
    "        'training': [\n",
    "            (0, 100),(150 255),(950, 1110),(1111, 1300),(1520, 1660),\n",
    "            (1700, 1860),(1900, 2020),(2160, 2250),(2430, 2550),(2551, 2695),\n",
    "            (2900, 3080),(3160, 3250),(3260, 3340),(3660, 3705),(3860, 4200),\n",
    "            (4710, 4780),(4836, 5200),(5310, 5610),(5890, 6050),(6420, 6540),\n",
    "            (6780, 6820),(6821, 7000),(7180, 7280),(7350, 7777),(8620, 8900),\n",
    "            (9265, 9350),(9520, 9930),(9980, 10150),(10230, 10400),\n",
    "        ],\n",
    "        'validation': [\n",
    "            (250, 360),(415, 545),(630, 700),(900, 1130),(1280, 1400),\n",
    "            (1550, 1700),(1750, 1920),(2220, 2540),(2590, 2800),(3000, 3300),\n",
    "            (3610, 3780),(3800, 4025),(4030, 4140),(5000, 5100),(5650, 5725),\n",
    "            (5880, 6020),(6420, 6575),(6630, 6740),(6960, 7030),(7100, 7250),\n",
    "            (7590, 7780),(7800, 7870),(7890, 8050),(8270, 8620),(9010, 9690),\n",
    "            (9850, 9900),\n",
    "        ],\n",
    "    },\n",
    "    'miguel': {\n",
    "        'training': [\n",
    "            (0, 220),(230, 415),(1185, 1580),(1600, 1900),(2020, 2150),\n",
    "            (2380, 2510),(2645, 3020),(3215, 3480),(3600, 3880),(3920, 4065),\n",
    "            (4485, 4580),(4650, 4710),(4730, 4980),(5130, 5485),(5550, 5790),\n",
    "            (6080, 6340),(6590, 6800),(7580, 7800),(7920, 8500),(8820, 8950),\n",
    "            (9130, 10200),\n",
    "        ],\n",
    "        'validation': [],\n",
    "    },\n",
    "}"
   ]
  },
  {
   "cell_type": "code",
   "execution_count": null,
   "metadata": {},
   "outputs": [],
   "source": []
  }
 ],
 "metadata": {
  "kernelspec": {
   "display_name": "Python 2",
   "language": "python",
   "name": "python2"
  },
  "language_info": {
   "codemirror_mode": {
    "name": "ipython",
    "version": 2
   },
   "file_extension": ".py",
   "mimetype": "text/x-python",
   "name": "python",
   "nbconvert_exporter": "python",
   "pygments_lexer": "ipython2",
   "version": "2.7.12"
  },
  "toc": {
   "nav_menu": {},
   "number_sections": true,
   "sideBar": true,
   "skip_h1_title": false,
   "title_cell": "Table of Contents",
   "title_sidebar": "Contents",
   "toc_cell": false,
   "toc_position": {},
   "toc_section_display": true,
   "toc_window_display": false
  },
  "varInspector": {
   "cols": {
    "lenName": 16,
    "lenType": 16,
    "lenVar": 40
   },
   "kernels_config": {
    "python": {
     "delete_cmd_postfix": "",
     "delete_cmd_prefix": "del ",
     "library": "var_list.py",
     "varRefreshCmd": "print(var_dic_list())"
    },
    "r": {
     "delete_cmd_postfix": ") ",
     "delete_cmd_prefix": "rm(",
     "library": "var_list.r",
     "varRefreshCmd": "cat(var_dic_list()) "
    }
   },
   "types_to_exclude": [
    "module",
    "function",
    "builtin_function_or_method",
    "instance",
    "_Feature"
   ],
   "window_display": false
  }
 },
 "nbformat": 4,
 "nbformat_minor": 2
}
