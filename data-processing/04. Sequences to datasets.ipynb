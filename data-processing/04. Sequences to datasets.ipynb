{
 "cells": [
  {
   "cell_type": "markdown",
   "metadata": {},
   "source": [
    "En este notebook se generarán los dataset para entrenar los modelos longitudinal y de cambio de carril."
   ]
  },
  {
   "cell_type": "code",
   "execution_count": 1,
   "metadata": {},
   "outputs": [],
   "source": [
    "%matplotlib notebook\n",
    "\n",
    "import os, glob\n",
    "\n",
    "import pandas as pd\n",
    "import matplotlib as mpl\n",
    "import numpy as np\n",
    "import matplotlib.pyplot as plt\n",
    "from pynsia.pointcloud import Deepmap\n",
    "\n",
    "figsize = (8, 4)"
   ]
  },
  {
   "cell_type": "code",
   "execution_count": 2,
   "metadata": {},
   "outputs": [],
   "source": [
    "ORIG_PATH = '/home/blazaid/Projects/data-phd/curated'\n",
    "DEST_PATH = '/home/blazaid/Projects/data-phd/datasets'\n",
    "SUBJECTS = ['miguel']  # edgar, jj, miguel"
   ]
  },
  {
   "cell_type": "code",
   "execution_count": 3,
   "metadata": {},
   "outputs": [
    {
     "name": "stdout",
     "output_type": "stream",
     "text": [
      "Loading data for cf model\n",
      "\tLoading training dataset ... 0 loaded\n",
      "\tLoading validation dataset ... 7 loaded\n",
      "Loading data for lc model\n",
      "\tLoading training dataset ... 0 loaded\n",
      "\tLoading validation dataset ... 660 loaded\n"
     ]
    }
   ],
   "source": [
    "sequences = {\n",
    "    'cf': {'training': [], 'validation': []},\n",
    "    'lc': {'training': [], 'validation': []},\n",
    "}\n",
    "\n",
    "for submodel in ('cf', 'lc'):\n",
    "    print('Loading data for {} model'.format(submodel))\n",
    "    sequences[submodel] = {}\n",
    "    for dataset in ('training', 'validation'):\n",
    "        print('\\tLoading {} dataset ... '.format(dataset), end='')\n",
    "        sequences[submodel][dataset] = []\n",
    "        for subject in SUBJECTS:\n",
    "            file_pattern = '{}_{}_{}_*.csv'.format(submodel, subject, dataset)\n",
    "            sequences[submodel][dataset].extend([\n",
    "                pd.read_csv(path, index_col=None)\n",
    "                for path in glob.glob(os.path.join(ORIG_PATH, file_pattern))\n",
    "            ])\n",
    "        print('{} loaded'.format(len(sequences[submodel][dataset])))"
   ]
  },
  {
   "cell_type": "code",
   "execution_count": null,
   "metadata": {},
   "outputs": [],
   "source": []
  }
 ],
 "metadata": {
  "kernelspec": {
   "display_name": "Python 3",
   "language": "python",
   "name": "python3"
  },
  "language_info": {
   "codemirror_mode": {
    "name": "ipython",
    "version": 3
   },
   "file_extension": ".py",
   "mimetype": "text/x-python",
   "name": "python",
   "nbconvert_exporter": "python",
   "pygments_lexer": "ipython3",
   "version": "3.5.2"
  }
 },
 "nbformat": 4,
 "nbformat_minor": 2
}
