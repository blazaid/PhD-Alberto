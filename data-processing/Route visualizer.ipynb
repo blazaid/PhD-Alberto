{
 "cells": [
  {
   "cell_type": "markdown",
   "metadata": {},
   "source": [
    "Este notebook lo usamos para sacar los datos de los recorridos que (por desgracia) se tienen que sacar a mano.\n",
    "\n",
    "Cosas que pongo aquí porque si no se me olvidan:\n",
    "\n",
    "* Los carriles se enumeran desde 0 (el derecho) hasta n (el más izquiero de todos). Eso quiere decir que los cambios son -1 a la derecha y +1 a la izquierda.\n",
    "* Si el siguiente semáforo está muy lejos, nos da exactamente igual el estado en el que esté. Este hecho lo podemos usar para generar más datos.\n",
    "* La precisión del GPS es un poco chusta, así que los resultados mejorarían dramáticamente en el caso de conseguir una mayor precisión en la toma de datos."
   ]
  },
  {
   "cell_type": "code",
   "execution_count": null,
   "metadata": {},
   "outputs": [],
   "source": [
    "%matplotlib notebook\n",
    "\n",
    "import os\n",
    "\n",
    "import matplotlib.pyplot as plt\n",
    "import matplotlib.image as mpimg\n",
    "import numpy as np\n",
    "import pandas as pd\n",
    "from sklearn.cluster import DBSCAN\n",
    "\n",
    "from pynsia.pointcloud import PointCloud\n",
    "from utils import load_subject_df, DATASETS_INFO\n",
    "\n",
    "figsize = (8, 4)"
   ]
  },
  {
   "cell_type": "code",
   "execution_count": null,
   "metadata": {},
   "outputs": [],
   "source": [
    "# BASE_PATH = '/home/blazaid/Projects/data-phd/sync'\n",
    "BASE_PATH = '/media/blazaid/Saca/Phd/data/sync'\n",
    "SUBJECT = 'miguel'  # edgar, jj, miguel\n",
    "DATASET = 'training'  # training, validation"
   ]
  },
  {
   "cell_type": "code",
   "execution_count": null,
   "metadata": {},
   "outputs": [],
   "source": [
    "# Load the subject's data\n",
    "df = load_subject_df(BASE_PATH, SUBJECT, DATASET, 'dataset')\n",
    "# Select user info\n",
    "dataset_info = DATASETS_INFO[SUBJECT][DATASET]\n",
    "# Subject's path\n",
    "SUBJECT_PATH = os.path.join(BASE_PATH, SUBJECT, DATASET)\n",
    "# Calibration data\n",
    "calibration_data = dataset_info['calibration_data']"
   ]
  },
  {
   "cell_type": "code",
   "execution_count": null,
   "metadata": {},
   "outputs": [],
   "source": [
    "def plt_image(ax, index, path):\n",
    "    image = mpimg.imread(path)\n",
    "    ax.clear()\n",
    "    ax.imshow(image)\n",
    "    ax.text(0, 0, 'Frame ' + str(index), bbox={'facecolor':'red', 'alpha':0.5, 'pad':10})\n",
    "\n",
    "def plt_lidar(ax, path, columns):\n",
    "    ps = PointCloud.load(path).transform(**calibration_data).points\n",
    "    \n",
    "    # Extract the points in the specified bounding box\n",
    "    mask = (ps[:,2] > -1.5) & (ps[:,2] < 0.5) & (ps[:,0] < 35) & (ps[:,0] > 0.35) & (ps[:,1] < 1) & (ps[:,1] > -1)\n",
    "    masked_points = ps[mask,:]\n",
    "\n",
    "    # Look for clusters and extract the distance to them\n",
    "    n_clusters = 0\n",
    "    n_points = len(masked_points)\n",
    "    dist = np.inf\n",
    "    nearest_c = None\n",
    "    if n_points > 0:\n",
    "        db = DBSCAN(eps=1, min_samples=2).fit(masked_points)\n",
    "        labels = db.labels_\n",
    "        n_clusters = len(set(labels)) - (1 if -1 in labels else 0)\n",
    "        for cluster in range(n_clusters):\n",
    "            centroid_ps = masked_points[labels == cluster]\n",
    "            centroid_dist = np.sqrt(np.mean(centroid_ps[:, 0])**2 + np.mean(centroid_ps[:, 1])**2)\n",
    "            if centroid_dist < dist:\n",
    "                dist = centroid_dist\n",
    "                nearest_c = centroid_ps\n",
    "\n",
    "    ax.clear()\n",
    "    ax.set_xlim((-35, 35))\n",
    "    ax.set_ylim((-35, 35))\n",
    "    ax.set_aspect('equal', adjustable='box')\n",
    "    if nearest_c is not None:\n",
    "        ax.scatter(nearest_c[:,0], nearest_c[:,1], s=.1, color='r');\n",
    "    ax.scatter(ps[:,0], ps[:,1], s=.01, color='b', alpha=0.1);\n",
    "    ax.text(-30, 30, 'Clusters: ' + str(n_clusters), bbox={'facecolor':'red', 'alpha':0.5, 'pad':10})\n",
    "    ax.text(-30, 20, 'Dist: ' + str(dist), bbox={'facecolor':'red', 'alpha':0.5, 'pad':10})"
   ]
  },
  {
   "cell_type": "code",
   "execution_count": null,
   "metadata": {},
   "outputs": [],
   "source": [
    "import time\n",
    "\n",
    "from_index = 0\n",
    "\n",
    "fig, axs = plt.subplots(1, 2, figsize=figsize)\n",
    "columns = []\n",
    "for index, row in df.iterrows():\n",
    "    if from_index is not None and from_index <= index:\n",
    "        if not (pd.isnull(row['snapshots_path']) or pd.isnull(row['pointclouds_path'])):\n",
    "            plt_image(axs[0], index, os.path.join(BASE_PATH, row['snapshots_path']))\n",
    "            plt_lidar(axs[1], os.path.join(BASE_PATH, row['pointclouds_path']), columns)\n",
    "        fig.canvas.draw()"
   ]
  },
  {
   "cell_type": "code",
   "execution_count": null,
   "metadata": {},
   "outputs": [],
   "source": []
  },
  {
   "cell_type": "code",
   "execution_count": null,
   "metadata": {},
   "outputs": [],
   "source": []
  }
 ],
 "metadata": {
  "kernelspec": {
   "display_name": "Python 3",
   "language": "python",
   "name": "python3"
  },
  "language_info": {
   "codemirror_mode": {
    "name": "ipython",
    "version": 3
   },
   "file_extension": ".py",
   "mimetype": "text/x-python",
   "name": "python",
   "nbconvert_exporter": "python",
   "pygments_lexer": "ipython3",
   "version": "3.6.3"
  },
  "toc": {
   "nav_menu": {},
   "number_sections": true,
   "sideBar": true,
   "skip_h1_title": false,
   "title_cell": "Table of Contents",
   "title_sidebar": "Contents",
   "toc_cell": false,
   "toc_position": {},
   "toc_section_display": true,
   "toc_window_display": false
  },
  "varInspector": {
   "cols": {
    "lenName": 16,
    "lenType": 16,
    "lenVar": 40
   },
   "kernels_config": {
    "python": {
     "delete_cmd_postfix": "",
     "delete_cmd_prefix": "del ",
     "library": "var_list.py",
     "varRefreshCmd": "print(var_dic_list())"
    },
    "r": {
     "delete_cmd_postfix": ") ",
     "delete_cmd_prefix": "rm(",
     "library": "var_list.r",
     "varRefreshCmd": "cat(var_dic_list()) "
    }
   },
   "types_to_exclude": [
    "module",
    "function",
    "builtin_function_or_method",
    "instance",
    "_Feature"
   ],
   "window_display": false
  }
 },
 "nbformat": 4,
 "nbformat_minor": 2
}
